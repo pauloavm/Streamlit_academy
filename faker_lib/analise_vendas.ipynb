{
 "cells": [
  {
   "cell_type": "code",
   "execution_count": 1,
   "id": "0f0d7b2c",
   "metadata": {},
   "outputs": [],
   "source": [
    "# Carregar as bibliotecas\n",
    "import pandas as pd\n",
    "import numpy as np\n",
    "import matplotlib.pyplot as plt\n",
    "import seaborn as sns"
   ]
  },
  {
   "cell_type": "code",
   "execution_count": 2,
   "id": "84e6329d",
   "metadata": {},
   "outputs": [],
   "source": [
    "# Configurações de visualização\n",
    "sns.set_style('whitegrid')\n",
    "plt.style.use('seaborn-v0_8-whitegrid')\n",
    "plt.rcParams['figure.figsize'] = (10, 6)"
   ]
  },
  {
   "cell_type": "code",
   "execution_count": 3,
   "id": "ca024847",
   "metadata": {},
   "outputs": [],
   "source": [
    "# Carregar o dataset\n",
    "df = pd.read_csv('vendas_eletronicos.csv')"
   ]
  },
  {
   "cell_type": "code",
   "execution_count": 4,
   "id": "7acd5f60",
   "metadata": {},
   "outputs": [
    {
     "name": "stdout",
     "output_type": "stream",
     "text": [
      "Primeiras 5 linhas do dataset:\n",
      "   ID_Venda           Data_Venda                            ID_Cliente  \\\n",
      "0         1  2024-12-29 03:05:53  c00b3b5d-001c-449f-b337-6d10ca54c2f5   \n",
      "1         2  2024-09-13 19:39:18  d5090e1c-5750-460e-8d95-0f096f200a21   \n",
      "2         3  2025-07-18 13:50:46  613d34f9-2156-457b-ae15-195974c6998f   \n",
      "3         4  2025-05-01 23:02:28  57d92624-48b0-4fdc-bca5-0a4121b04fd7   \n",
      "4         5  2025-01-25 14:42:47  10198da6-edca-4f85-99d1-f8b8e23ea57e   \n",
      "\n",
      "           Nome_Cliente               Email_Cliente                País  \\\n",
      "0      Iwona Gute-Zobel  iwona.gute-zobel@yahoo.com      Republik Korea   \n",
      "1  Sig. Ricciotti Ponti      sig..ponti@outlook.com               Cipro   \n",
      "2          Volkmar Ring    volkmar.ring@hotmail.com              Gambia   \n",
      "3        Gonçalo Garcia    gonçalo.garcia@gmail.com  Polinésia Francesa   \n",
      "4        Marina Ribeiro    marina.ribeiro@gmail.com              Zâmbia   \n",
      "\n",
      "  Categoria_Produto                   Produto  Preço_Unitário  Quantidade  \\\n",
      "0         Celulares            Google Pixel 6           699.0           5   \n",
      "1         Celulares            OnePlus 10 Pro           750.0           2   \n",
      "2        Acessórios  Fone de Ouvido Bluetooth            50.0           1   \n",
      "3         Celulares            OnePlus 10 Pro           750.0           5   \n",
      "4         Celulares            Google Pixel 6           699.0           3   \n",
      "\n",
      "   Total_Venda  \n",
      "0       3495.0  \n",
      "1       1500.0  \n",
      "2         50.0  \n",
      "3       3750.0  \n",
      "4       2097.0  \n"
     ]
    }
   ],
   "source": [
    "# Exibir as primeiras 5 linhas para uma pré-visualização\n",
    "print(\"Primeiras 5 linhas do dataset:\")\n",
    "print(df.head())"
   ]
  },
  {
   "cell_type": "code",
   "execution_count": 5,
   "id": "8b5ef279",
   "metadata": {},
   "outputs": [
    {
     "name": "stdout",
     "output_type": "stream",
     "text": [
      "\n",
      "Informações do dataset:\n",
      "<class 'pandas.core.frame.DataFrame'>\n",
      "RangeIndex: 100000 entries, 0 to 99999\n",
      "Data columns (total 11 columns):\n",
      " #   Column             Non-Null Count   Dtype  \n",
      "---  ------             --------------   -----  \n",
      " 0   ID_Venda           100000 non-null  int64  \n",
      " 1   Data_Venda         100000 non-null  object \n",
      " 2   ID_Cliente         100000 non-null  object \n",
      " 3   Nome_Cliente       100000 non-null  object \n",
      " 4   Email_Cliente      100000 non-null  object \n",
      " 5   País               100000 non-null  object \n",
      " 6   Categoria_Produto  100000 non-null  object \n",
      " 7   Produto            100000 non-null  object \n",
      " 8   Preço_Unitário     100000 non-null  float64\n",
      " 9   Quantidade         100000 non-null  int64  \n",
      " 10  Total_Venda        100000 non-null  float64\n",
      "dtypes: float64(2), int64(2), object(7)\n",
      "memory usage: 8.4+ MB\n",
      "None\n"
     ]
    }
   ],
   "source": [
    "# Exibir informações sobre o dataset (tipos de dados, valores nulos, etc.)\n",
    "print(\"\\nInformações do dataset:\")\n",
    "print(df.info())"
   ]
  },
  {
   "cell_type": "code",
   "execution_count": null,
   "id": "ce92ed72",
   "metadata": {},
   "outputs": [],
   "source": []
  },
  {
   "cell_type": "code",
   "execution_count": null,
   "id": "9918d090",
   "metadata": {},
   "outputs": [],
   "source": []
  },
  {
   "cell_type": "code",
   "execution_count": null,
   "id": "77b4f54b",
   "metadata": {},
   "outputs": [],
   "source": []
  }
 ],
 "metadata": {
  "kernelspec": {
   "display_name": "base",
   "language": "python",
   "name": "python3"
  },
  "language_info": {
   "codemirror_mode": {
    "name": "ipython",
    "version": 3
   },
   "file_extension": ".py",
   "mimetype": "text/x-python",
   "name": "python",
   "nbconvert_exporter": "python",
   "pygments_lexer": "ipython3",
   "version": "3.13.5"
  }
 },
 "nbformat": 4,
 "nbformat_minor": 5
}
