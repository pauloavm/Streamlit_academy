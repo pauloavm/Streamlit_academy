{
 "cells": [
  {
   "cell_type": "markdown",
   "id": "c32ec9f1",
   "metadata": {},
   "source": [
    "1. Configuração Inicial: Carregando as Bibliotecas e o Dataset"
   ]
  },
  {
   "cell_type": "code",
   "execution_count": 51,
   "id": "0f0d7b2c",
   "metadata": {},
   "outputs": [],
   "source": [
    "# Carregar as bibliotecas\n",
    "import pandas as pd\n",
    "import plotly.express as px\n",
    "import plotly.graph_objects as go\n",
    "import plotly.express as px\n"
   ]
  },
  {
   "cell_type": "code",
   "execution_count": null,
   "id": "84e6329d",
   "metadata": {},
   "outputs": [],
   "source": [
    "\n",
    "# Carregar o dataset\n",
    "df = pd.read_csv('teste.csv')\n"
   ]
  },
  {
   "cell_type": "code",
   "execution_count": null,
   "id": "ca024847",
   "metadata": {},
   "outputs": [],
   "source": [
    "\n",
    "# Exibir as primeiras 5 linhas para uma pré-visualização\n",
    "print(\"Primeiras 5 linhas do dataset:\")\n",
    "print(df.head())\n"
   ]
  },
  {
   "cell_type": "code",
   "execution_count": null,
   "id": "7acd5f60",
   "metadata": {},
   "outputs": [],
   "source": [
    "\n",
    "# Exibir informações sobre o dataset (tipos de dados, valores nulos, etc.)\n",
    "print(\"\\nInformações do dataset:\")\n",
    "print(df.info())"
   ]
  },
  {
   "cell_type": "markdown",
   "id": "cb156f3a",
   "metadata": {},
   "source": [
    "2. Limpeza e Pré-processamento dos Dados (ETL)"
   ]
  },
  {
   "cell_type": "code",
   "execution_count": null,
   "id": "ce92ed72",
   "metadata": {},
   "outputs": [],
   "source": [
    "# Converter a coluna 'Data_Venda' para o tipo datetime\n",
    "df['Data_Venda'] = pd.to_datetime(df['Data_Venda'])\n",
    "\n",
    "\n"
   ]
  },
  {
   "cell_type": "code",
   "execution_count": null,
   "id": "9918d090",
   "metadata": {},
   "outputs": [],
   "source": [
    "# Extrair ano e mês para análise\n",
    "df['Ano'] = df['Data_Venda'].dt.year\n",
    "df['Mês'] = df['Data_Venda'].dt.month\n",
    "\n",
    "\n"
   ]
  },
  {
   "cell_type": "code",
   "execution_count": null,
   "id": "77b4f54b",
   "metadata": {},
   "outputs": [],
   "source": [
    "# Verificar se há valores ausentes (nulos) e duplicadas\n",
    "print(\"\\nContagem de valores nulos por coluna:\")\n",
    "print(df.isnull().sum())\n",
    "\n"
   ]
  },
  {
   "cell_type": "code",
   "execution_count": null,
   "id": "40fa7771",
   "metadata": {},
   "outputs": [],
   "source": [
    "# Verificar se há linhas duplicadas\n",
    "print(\"\\nNúmero de linhas duplicadas:\")\n",
    "print(df.duplicated().sum())\n",
    "\n",
    "# Se houver duplicatas, você pode removê-las usando:\n",
    "# df.drop_duplicates(inplace=True)"
   ]
  },
  {
   "cell_type": "markdown",
   "id": "2b2ba231",
   "metadata": {},
   "source": [
    "3. Análise Exploratória de Dados (EDA)"
   ]
  },
  {
   "cell_type": "code",
   "execution_count": null,
   "id": "0322776f",
   "metadata": {},
   "outputs": [],
   "source": [
    "# Vendas totais por mês\n",
    "vendas_por_mes = df.groupby('Mês')['Total_Venda'].sum().reset_index()\n",
    "fig_mes = px.line(vendas_por_mes, x='Mês', y='Total_Venda', title='Vendas Totais por Mês')\n",
    "fig_mes.show()"
   ]
  },
  {
   "cell_type": "code",
   "execution_count": null,
   "id": "659322ab",
   "metadata": {},
   "outputs": [],
   "source": [
    "# Produtos Mais Vendidos (em valor total):\n",
    "top_produtos = df.groupby('Produto')['Total_Venda'].sum().nlargest(5).reset_index()\n",
    "fig_prod = px.bar(top_produtos, x='Total_Venda', y='Produto', title='Top 5 Produtos por Vendas', orientation='h')\n",
    "fig_prod.show()"
   ]
  },
  {
   "cell_type": "code",
   "execution_count": null,
   "id": "94ad82b8",
   "metadata": {},
   "outputs": [],
   "source": [
    "# Top 5 Clientes por Valor de Vendas\n",
    "top_clientes = df.groupby('Nome_Cliente')['Total_Venda'].sum().nlargest(5)\n",
    "print(\"\\nTop 5 Clientes por Vendas:\")\n",
    "print(top_clientes)"
   ]
  },
  {
   "cell_type": "code",
   "execution_count": null,
   "id": "68068ddc",
   "metadata": {},
   "outputs": [],
   "source": [
    "# Ticket médio por categoria\n",
    "preco_medio_categoria = df.groupby('Categoria_Produto')['Preço_Unitário'].mean().sort_values(ascending=False)\n",
    "print(\"\\nPreço Unitário Médio por Categoria:\")\n",
    "print(preco_medio_categoria)"
   ]
  },
  {
   "cell_type": "code",
   "execution_count": null,
   "id": "a806930e",
   "metadata": {},
   "outputs": [],
   "source": [
    "# Carregar o dataset\n",
    "# df = pd.read_csv('teste.csv')\n",
    "\n",
    "# Agrupar as vendas por país\n",
    "vendas_por_pais = df.groupby('País')['Total_Venda'].sum().reset_index()\n",
    "\n",
    "# Criar o mapa de coropleto interativo\n",
    "fig = px.choropleth(vendas_por_pais,\n",
    "                    locations='País',\n",
    "                    locationmode='country names',\n",
    "                    color='Total_Venda',\n",
    "                    hover_name='País',\n",
    "                    color_continuous_scale=px.colors.sequential.Plasma,\n",
    "                    title='Vendas Totais por País')\n",
    "\n",
    "# Exibir o mapa\n",
    "fig.show()"
   ]
  }
 ],
 "metadata": {
  "kernelspec": {
   "display_name": "base",
   "language": "python",
   "name": "python3"
  },
  "language_info": {
   "codemirror_mode": {
    "name": "ipython",
    "version": 3
   },
   "file_extension": ".py",
   "mimetype": "text/x-python",
   "name": "python",
   "nbconvert_exporter": "python",
   "pygments_lexer": "ipython3",
   "version": "3.13.5"
  }
 },
 "nbformat": 4,
 "nbformat_minor": 5
}
