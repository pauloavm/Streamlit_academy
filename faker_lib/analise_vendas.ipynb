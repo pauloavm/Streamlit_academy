{
 "cells": [
  {
   "cell_type": "markdown",
   "id": "c32ec9f1",
   "metadata": {},
   "source": [
    "1. Configuração Inicial: Carregando as Bibliotecas e o Dataset"
   ]
  },
  {
   "cell_type": "code",
   "execution_count": 52,
   "id": "0f0d7b2c",
   "metadata": {},
   "outputs": [],
   "source": [
    "# Carregar as bibliotecas\n",
    "import pandas as pd\n",
    "import plotly.express as px\n",
    "import plotly.graph_objects as go\n",
    "import plotly.express as px\n"
   ]
  },
  {
   "cell_type": "code",
   "execution_count": 53,
   "id": "84e6329d",
   "metadata": {},
   "outputs": [],
   "source": [
    "\n",
    "# Carregar o dataset\n",
    "df = pd.read_csv('vendas_eletronicos.csv')\n"
   ]
  },
  {
   "cell_type": "code",
   "execution_count": 54,
   "id": "ca024847",
   "metadata": {},
   "outputs": [
    {
     "name": "stdout",
     "output_type": "stream",
     "text": [
      "Primeiras 5 linhas do dataset:\n",
      "   ID_Venda           Data_Venda                            ID_Cliente  \\\n",
      "0         1  2024-12-29 03:05:53  c00b3b5d-001c-449f-b337-6d10ca54c2f5   \n",
      "1         2  2024-09-13 19:39:18  d5090e1c-5750-460e-8d95-0f096f200a21   \n",
      "2         3  2025-07-18 13:50:46  613d34f9-2156-457b-ae15-195974c6998f   \n",
      "3         4  2025-05-01 23:02:28  57d92624-48b0-4fdc-bca5-0a4121b04fd7   \n",
      "4         5  2025-01-25 14:42:47  10198da6-edca-4f85-99d1-f8b8e23ea57e   \n",
      "\n",
      "           Nome_Cliente               Email_Cliente                País  \\\n",
      "0      Iwona Gute-Zobel  iwona.gute-zobel@yahoo.com      Republik Korea   \n",
      "1  Sig. Ricciotti Ponti      sig..ponti@outlook.com               Cipro   \n",
      "2          Volkmar Ring    volkmar.ring@hotmail.com              Gambia   \n",
      "3        Gonçalo Garcia    gonçalo.garcia@gmail.com  Polinésia Francesa   \n",
      "4        Marina Ribeiro    marina.ribeiro@gmail.com              Zâmbia   \n",
      "\n",
      "  Categoria_Produto                   Produto  Preço_Unitário  Quantidade  \\\n",
      "0         Celulares            Google Pixel 6           699.0           5   \n",
      "1         Celulares            OnePlus 10 Pro           750.0           2   \n",
      "2        Acessórios  Fone de Ouvido Bluetooth            50.0           1   \n",
      "3         Celulares            OnePlus 10 Pro           750.0           5   \n",
      "4         Celulares            Google Pixel 6           699.0           3   \n",
      "\n",
      "   Total_Venda  \n",
      "0       3495.0  \n",
      "1       1500.0  \n",
      "2         50.0  \n",
      "3       3750.0  \n",
      "4       2097.0  \n"
     ]
    }
   ],
   "source": [
    "\n",
    "# Exibir as primeiras 5 linhas para uma pré-visualização\n",
    "print(\"Primeiras 5 linhas do dataset:\")\n",
    "print(df.head())\n"
   ]
  },
  {
   "cell_type": "code",
   "execution_count": 55,
   "id": "7acd5f60",
   "metadata": {},
   "outputs": [
    {
     "name": "stdout",
     "output_type": "stream",
     "text": [
      "\n",
      "Informações do dataset:\n",
      "<class 'pandas.core.frame.DataFrame'>\n",
      "RangeIndex: 100000 entries, 0 to 99999\n",
      "Data columns (total 11 columns):\n",
      " #   Column             Non-Null Count   Dtype  \n",
      "---  ------             --------------   -----  \n",
      " 0   ID_Venda           100000 non-null  int64  \n",
      " 1   Data_Venda         100000 non-null  object \n",
      " 2   ID_Cliente         100000 non-null  object \n",
      " 3   Nome_Cliente       100000 non-null  object \n",
      " 4   Email_Cliente      100000 non-null  object \n",
      " 5   País               100000 non-null  object \n",
      " 6   Categoria_Produto  100000 non-null  object \n",
      " 7   Produto            100000 non-null  object \n",
      " 8   Preço_Unitário     100000 non-null  float64\n",
      " 9   Quantidade         100000 non-null  int64  \n",
      " 10  Total_Venda        100000 non-null  float64\n",
      "dtypes: float64(2), int64(2), object(7)\n",
      "memory usage: 8.4+ MB\n",
      "None\n"
     ]
    }
   ],
   "source": [
    "\n",
    "# Exibir informações sobre o dataset (tipos de dados, valores nulos, etc.)\n",
    "print(\"\\nInformações do dataset:\")\n",
    "print(df.info())"
   ]
  },
  {
   "cell_type": "markdown",
   "id": "cb156f3a",
   "metadata": {},
   "source": [
    "2. Limpeza e Pré-processamento dos Dados (ETL)"
   ]
  },
  {
   "cell_type": "code",
   "execution_count": 56,
   "id": "ce92ed72",
   "metadata": {},
   "outputs": [],
   "source": [
    "# Converter a coluna 'Data_Venda' para o tipo datetime\n",
    "df['Data_Venda'] = pd.to_datetime(df['Data_Venda'])\n",
    "\n",
    "\n"
   ]
  },
  {
   "cell_type": "code",
   "execution_count": 57,
   "id": "9918d090",
   "metadata": {},
   "outputs": [],
   "source": [
    "# Extrair ano e mês para análise\n",
    "df['Ano'] = df['Data_Venda'].dt.year\n",
    "df['Mês'] = df['Data_Venda'].dt.month\n",
    "\n",
    "\n"
   ]
  },
  {
   "cell_type": "code",
   "execution_count": 58,
   "id": "77b4f54b",
   "metadata": {},
   "outputs": [
    {
     "name": "stdout",
     "output_type": "stream",
     "text": [
      "\n",
      "Contagem de valores nulos por coluna:\n",
      "ID_Venda             0\n",
      "Data_Venda           0\n",
      "ID_Cliente           0\n",
      "Nome_Cliente         0\n",
      "Email_Cliente        0\n",
      "País                 0\n",
      "Categoria_Produto    0\n",
      "Produto              0\n",
      "Preço_Unitário       0\n",
      "Quantidade           0\n",
      "Total_Venda          0\n",
      "Ano                  0\n",
      "Mês                  0\n",
      "dtype: int64\n"
     ]
    }
   ],
   "source": [
    "# Verificar se há valores ausentes (nulos) e duplicadas\n",
    "print(\"\\nContagem de valores nulos por coluna:\")\n",
    "print(df.isnull().sum())\n",
    "\n"
   ]
  },
  {
   "cell_type": "code",
   "execution_count": 59,
   "id": "40fa7771",
   "metadata": {},
   "outputs": [
    {
     "name": "stdout",
     "output_type": "stream",
     "text": [
      "\n",
      "Número de linhas duplicadas:\n",
      "0\n"
     ]
    }
   ],
   "source": [
    "# Verificar se há linhas duplicadas\n",
    "print(\"\\nNúmero de linhas duplicadas:\")\n",
    "print(df.duplicated().sum())\n",
    "\n",
    "# Se houver duplicatas, você pode removê-las usando:\n",
    "# df.drop_duplicates(inplace=True)"
   ]
  },
  {
   "cell_type": "markdown",
   "id": "2b2ba231",
   "metadata": {},
   "source": [
    "3. Análise Exploratória de Dados (EDA)"
   ]
  },
  {
   "cell_type": "code",
   "execution_count": 63,
   "id": "0322776f",
   "metadata": {},
   "outputs": [
    {
     "data": {
      "application/vnd.plotly.v1+json": {
       "config": {
        "plotlyServerURL": "https://plot.ly"
       },
       "data": [
        {
         "hovertemplate": "Mês=%{x}<br>Total_Venda=%{y}<extra></extra>",
         "legendgroup": "",
         "line": {
          "color": "#636efa",
          "dash": "solid"
         },
         "marker": {
          "symbol": "circle"
         },
         "mode": "lines",
         "name": "",
         "orientation": "v",
         "showlegend": false,
         "type": "scatter",
         "x": [
          1,
          2,
          3,
          4,
          5,
          6,
          7,
          8,
          9,
          10,
          11,
          12
         ],
         "xaxis": "x",
         "y": [
          9295471,
          8511313,
          8906733,
          8888271,
          9196092,
          8830007,
          9269292,
          9049569,
          9069071,
          8978837,
          8777744,
          9248634
         ],
         "yaxis": "y"
        }
       ],
       "layout": {
        "legend": {
         "tracegroupgap": 0
        },
        "template": {
         "data": {
          "bar": [
           {
            "error_x": {
             "color": "#2a3f5f"
            },
            "error_y": {
             "color": "#2a3f5f"
            },
            "marker": {
             "line": {
              "color": "#E5ECF6",
              "width": 0.5
             },
             "pattern": {
              "fillmode": "overlay",
              "size": 10,
              "solidity": 0.2
             }
            },
            "type": "bar"
           }
          ],
          "barpolar": [
           {
            "marker": {
             "line": {
              "color": "#E5ECF6",
              "width": 0.5
             },
             "pattern": {
              "fillmode": "overlay",
              "size": 10,
              "solidity": 0.2
             }
            },
            "type": "barpolar"
           }
          ],
          "carpet": [
           {
            "aaxis": {
             "endlinecolor": "#2a3f5f",
             "gridcolor": "white",
             "linecolor": "white",
             "minorgridcolor": "white",
             "startlinecolor": "#2a3f5f"
            },
            "baxis": {
             "endlinecolor": "#2a3f5f",
             "gridcolor": "white",
             "linecolor": "white",
             "minorgridcolor": "white",
             "startlinecolor": "#2a3f5f"
            },
            "type": "carpet"
           }
          ],
          "choropleth": [
           {
            "colorbar": {
             "outlinewidth": 0,
             "ticks": ""
            },
            "type": "choropleth"
           }
          ],
          "contour": [
           {
            "colorbar": {
             "outlinewidth": 0,
             "ticks": ""
            },
            "colorscale": [
             [
              0,
              "#0d0887"
             ],
             [
              0.1111111111111111,
              "#46039f"
             ],
             [
              0.2222222222222222,
              "#7201a8"
             ],
             [
              0.3333333333333333,
              "#9c179e"
             ],
             [
              0.4444444444444444,
              "#bd3786"
             ],
             [
              0.5555555555555556,
              "#d8576b"
             ],
             [
              0.6666666666666666,
              "#ed7953"
             ],
             [
              0.7777777777777778,
              "#fb9f3a"
             ],
             [
              0.8888888888888888,
              "#fdca26"
             ],
             [
              1,
              "#f0f921"
             ]
            ],
            "type": "contour"
           }
          ],
          "contourcarpet": [
           {
            "colorbar": {
             "outlinewidth": 0,
             "ticks": ""
            },
            "type": "contourcarpet"
           }
          ],
          "heatmap": [
           {
            "colorbar": {
             "outlinewidth": 0,
             "ticks": ""
            },
            "colorscale": [
             [
              0,
              "#0d0887"
             ],
             [
              0.1111111111111111,
              "#46039f"
             ],
             [
              0.2222222222222222,
              "#7201a8"
             ],
             [
              0.3333333333333333,
              "#9c179e"
             ],
             [
              0.4444444444444444,
              "#bd3786"
             ],
             [
              0.5555555555555556,
              "#d8576b"
             ],
             [
              0.6666666666666666,
              "#ed7953"
             ],
             [
              0.7777777777777778,
              "#fb9f3a"
             ],
             [
              0.8888888888888888,
              "#fdca26"
             ],
             [
              1,
              "#f0f921"
             ]
            ],
            "type": "heatmap"
           }
          ],
          "heatmapgl": [
           {
            "colorbar": {
             "outlinewidth": 0,
             "ticks": ""
            },
            "colorscale": [
             [
              0,
              "#0d0887"
             ],
             [
              0.1111111111111111,
              "#46039f"
             ],
             [
              0.2222222222222222,
              "#7201a8"
             ],
             [
              0.3333333333333333,
              "#9c179e"
             ],
             [
              0.4444444444444444,
              "#bd3786"
             ],
             [
              0.5555555555555556,
              "#d8576b"
             ],
             [
              0.6666666666666666,
              "#ed7953"
             ],
             [
              0.7777777777777778,
              "#fb9f3a"
             ],
             [
              0.8888888888888888,
              "#fdca26"
             ],
             [
              1,
              "#f0f921"
             ]
            ],
            "type": "heatmapgl"
           }
          ],
          "histogram": [
           {
            "marker": {
             "pattern": {
              "fillmode": "overlay",
              "size": 10,
              "solidity": 0.2
             }
            },
            "type": "histogram"
           }
          ],
          "histogram2d": [
           {
            "colorbar": {
             "outlinewidth": 0,
             "ticks": ""
            },
            "colorscale": [
             [
              0,
              "#0d0887"
             ],
             [
              0.1111111111111111,
              "#46039f"
             ],
             [
              0.2222222222222222,
              "#7201a8"
             ],
             [
              0.3333333333333333,
              "#9c179e"
             ],
             [
              0.4444444444444444,
              "#bd3786"
             ],
             [
              0.5555555555555556,
              "#d8576b"
             ],
             [
              0.6666666666666666,
              "#ed7953"
             ],
             [
              0.7777777777777778,
              "#fb9f3a"
             ],
             [
              0.8888888888888888,
              "#fdca26"
             ],
             [
              1,
              "#f0f921"
             ]
            ],
            "type": "histogram2d"
           }
          ],
          "histogram2dcontour": [
           {
            "colorbar": {
             "outlinewidth": 0,
             "ticks": ""
            },
            "colorscale": [
             [
              0,
              "#0d0887"
             ],
             [
              0.1111111111111111,
              "#46039f"
             ],
             [
              0.2222222222222222,
              "#7201a8"
             ],
             [
              0.3333333333333333,
              "#9c179e"
             ],
             [
              0.4444444444444444,
              "#bd3786"
             ],
             [
              0.5555555555555556,
              "#d8576b"
             ],
             [
              0.6666666666666666,
              "#ed7953"
             ],
             [
              0.7777777777777778,
              "#fb9f3a"
             ],
             [
              0.8888888888888888,
              "#fdca26"
             ],
             [
              1,
              "#f0f921"
             ]
            ],
            "type": "histogram2dcontour"
           }
          ],
          "mesh3d": [
           {
            "colorbar": {
             "outlinewidth": 0,
             "ticks": ""
            },
            "type": "mesh3d"
           }
          ],
          "parcoords": [
           {
            "line": {
             "colorbar": {
              "outlinewidth": 0,
              "ticks": ""
             }
            },
            "type": "parcoords"
           }
          ],
          "pie": [
           {
            "automargin": true,
            "type": "pie"
           }
          ],
          "scatter": [
           {
            "fillpattern": {
             "fillmode": "overlay",
             "size": 10,
             "solidity": 0.2
            },
            "type": "scatter"
           }
          ],
          "scatter3d": [
           {
            "line": {
             "colorbar": {
              "outlinewidth": 0,
              "ticks": ""
             }
            },
            "marker": {
             "colorbar": {
              "outlinewidth": 0,
              "ticks": ""
             }
            },
            "type": "scatter3d"
           }
          ],
          "scattercarpet": [
           {
            "marker": {
             "colorbar": {
              "outlinewidth": 0,
              "ticks": ""
             }
            },
            "type": "scattercarpet"
           }
          ],
          "scattergeo": [
           {
            "marker": {
             "colorbar": {
              "outlinewidth": 0,
              "ticks": ""
             }
            },
            "type": "scattergeo"
           }
          ],
          "scattergl": [
           {
            "marker": {
             "colorbar": {
              "outlinewidth": 0,
              "ticks": ""
             }
            },
            "type": "scattergl"
           }
          ],
          "scattermapbox": [
           {
            "marker": {
             "colorbar": {
              "outlinewidth": 0,
              "ticks": ""
             }
            },
            "type": "scattermapbox"
           }
          ],
          "scatterpolar": [
           {
            "marker": {
             "colorbar": {
              "outlinewidth": 0,
              "ticks": ""
             }
            },
            "type": "scatterpolar"
           }
          ],
          "scatterpolargl": [
           {
            "marker": {
             "colorbar": {
              "outlinewidth": 0,
              "ticks": ""
             }
            },
            "type": "scatterpolargl"
           }
          ],
          "scatterternary": [
           {
            "marker": {
             "colorbar": {
              "outlinewidth": 0,
              "ticks": ""
             }
            },
            "type": "scatterternary"
           }
          ],
          "surface": [
           {
            "colorbar": {
             "outlinewidth": 0,
             "ticks": ""
            },
            "colorscale": [
             [
              0,
              "#0d0887"
             ],
             [
              0.1111111111111111,
              "#46039f"
             ],
             [
              0.2222222222222222,
              "#7201a8"
             ],
             [
              0.3333333333333333,
              "#9c179e"
             ],
             [
              0.4444444444444444,
              "#bd3786"
             ],
             [
              0.5555555555555556,
              "#d8576b"
             ],
             [
              0.6666666666666666,
              "#ed7953"
             ],
             [
              0.7777777777777778,
              "#fb9f3a"
             ],
             [
              0.8888888888888888,
              "#fdca26"
             ],
             [
              1,
              "#f0f921"
             ]
            ],
            "type": "surface"
           }
          ],
          "table": [
           {
            "cells": {
             "fill": {
              "color": "#EBF0F8"
             },
             "line": {
              "color": "white"
             }
            },
            "header": {
             "fill": {
              "color": "#C8D4E3"
             },
             "line": {
              "color": "white"
             }
            },
            "type": "table"
           }
          ]
         },
         "layout": {
          "annotationdefaults": {
           "arrowcolor": "#2a3f5f",
           "arrowhead": 0,
           "arrowwidth": 1
          },
          "autotypenumbers": "strict",
          "coloraxis": {
           "colorbar": {
            "outlinewidth": 0,
            "ticks": ""
           }
          },
          "colorscale": {
           "diverging": [
            [
             0,
             "#8e0152"
            ],
            [
             0.1,
             "#c51b7d"
            ],
            [
             0.2,
             "#de77ae"
            ],
            [
             0.3,
             "#f1b6da"
            ],
            [
             0.4,
             "#fde0ef"
            ],
            [
             0.5,
             "#f7f7f7"
            ],
            [
             0.6,
             "#e6f5d0"
            ],
            [
             0.7,
             "#b8e186"
            ],
            [
             0.8,
             "#7fbc41"
            ],
            [
             0.9,
             "#4d9221"
            ],
            [
             1,
             "#276419"
            ]
           ],
           "sequential": [
            [
             0,
             "#0d0887"
            ],
            [
             0.1111111111111111,
             "#46039f"
            ],
            [
             0.2222222222222222,
             "#7201a8"
            ],
            [
             0.3333333333333333,
             "#9c179e"
            ],
            [
             0.4444444444444444,
             "#bd3786"
            ],
            [
             0.5555555555555556,
             "#d8576b"
            ],
            [
             0.6666666666666666,
             "#ed7953"
            ],
            [
             0.7777777777777778,
             "#fb9f3a"
            ],
            [
             0.8888888888888888,
             "#fdca26"
            ],
            [
             1,
             "#f0f921"
            ]
           ],
           "sequentialminus": [
            [
             0,
             "#0d0887"
            ],
            [
             0.1111111111111111,
             "#46039f"
            ],
            [
             0.2222222222222222,
             "#7201a8"
            ],
            [
             0.3333333333333333,
             "#9c179e"
            ],
            [
             0.4444444444444444,
             "#bd3786"
            ],
            [
             0.5555555555555556,
             "#d8576b"
            ],
            [
             0.6666666666666666,
             "#ed7953"
            ],
            [
             0.7777777777777778,
             "#fb9f3a"
            ],
            [
             0.8888888888888888,
             "#fdca26"
            ],
            [
             1,
             "#f0f921"
            ]
           ]
          },
          "colorway": [
           "#636efa",
           "#EF553B",
           "#00cc96",
           "#ab63fa",
           "#FFA15A",
           "#19d3f3",
           "#FF6692",
           "#B6E880",
           "#FF97FF",
           "#FECB52"
          ],
          "font": {
           "color": "#2a3f5f"
          },
          "geo": {
           "bgcolor": "white",
           "lakecolor": "white",
           "landcolor": "#E5ECF6",
           "showlakes": true,
           "showland": true,
           "subunitcolor": "white"
          },
          "hoverlabel": {
           "align": "left"
          },
          "hovermode": "closest",
          "mapbox": {
           "style": "light"
          },
          "paper_bgcolor": "white",
          "plot_bgcolor": "#E5ECF6",
          "polar": {
           "angularaxis": {
            "gridcolor": "white",
            "linecolor": "white",
            "ticks": ""
           },
           "bgcolor": "#E5ECF6",
           "radialaxis": {
            "gridcolor": "white",
            "linecolor": "white",
            "ticks": ""
           }
          },
          "scene": {
           "xaxis": {
            "backgroundcolor": "#E5ECF6",
            "gridcolor": "white",
            "gridwidth": 2,
            "linecolor": "white",
            "showbackground": true,
            "ticks": "",
            "zerolinecolor": "white"
           },
           "yaxis": {
            "backgroundcolor": "#E5ECF6",
            "gridcolor": "white",
            "gridwidth": 2,
            "linecolor": "white",
            "showbackground": true,
            "ticks": "",
            "zerolinecolor": "white"
           },
           "zaxis": {
            "backgroundcolor": "#E5ECF6",
            "gridcolor": "white",
            "gridwidth": 2,
            "linecolor": "white",
            "showbackground": true,
            "ticks": "",
            "zerolinecolor": "white"
           }
          },
          "shapedefaults": {
           "line": {
            "color": "#2a3f5f"
           }
          },
          "ternary": {
           "aaxis": {
            "gridcolor": "white",
            "linecolor": "white",
            "ticks": ""
           },
           "baxis": {
            "gridcolor": "white",
            "linecolor": "white",
            "ticks": ""
           },
           "bgcolor": "#E5ECF6",
           "caxis": {
            "gridcolor": "white",
            "linecolor": "white",
            "ticks": ""
           }
          },
          "title": {
           "x": 0.05
          },
          "xaxis": {
           "automargin": true,
           "gridcolor": "white",
           "linecolor": "white",
           "ticks": "",
           "title": {
            "standoff": 15
           },
           "zerolinecolor": "white",
           "zerolinewidth": 2
          },
          "yaxis": {
           "automargin": true,
           "gridcolor": "white",
           "linecolor": "white",
           "ticks": "",
           "title": {
            "standoff": 15
           },
           "zerolinecolor": "white",
           "zerolinewidth": 2
          }
         }
        },
        "title": {
         "text": "Vendas Totais por Mês"
        },
        "xaxis": {
         "anchor": "y",
         "domain": [
          0,
          1
         ],
         "title": {
          "text": "Mês"
         }
        },
        "yaxis": {
         "anchor": "x",
         "domain": [
          0,
          1
         ],
         "title": {
          "text": "Total_Venda"
         }
        }
       }
      }
     },
     "metadata": {},
     "output_type": "display_data"
    }
   ],
   "source": [
    "# Vendas totais por mês\n",
    "vendas_por_mes = df.groupby('Mês')['Total_Venda'].sum().reset_index()\n",
    "fig_mes = px.line(vendas_por_mes, x='Mês', y='Total_Venda', title='Vendas Totais por Mês')\n",
    "fig_mes.show()"
   ]
  },
  {
   "cell_type": "code",
   "execution_count": 64,
   "id": "659322ab",
   "metadata": {},
   "outputs": [
    {
     "data": {
      "application/vnd.plotly.v1+json": {
       "config": {
        "plotlyServerURL": "https://plot.ly"
       },
       "data": [
        {
         "alignmentgroup": "True",
         "hovertemplate": "Total_Venda=%{x}<br>Produto=%{y}<extra></extra>",
         "legendgroup": "",
         "marker": {
          "color": "#636efa",
          "pattern": {
           "shape": ""
          }
         },
         "name": "",
         "offsetgroup": "",
         "orientation": "h",
         "showlegend": false,
         "textposition": "auto",
         "type": "bar",
         "x": [
          22842900,
          21877419,
          20349750,
          18841545,
          16499455
         ],
         "xaxis": "x",
         "y": [
          "iPhone 13",
          "Samsung Galaxy S22",
          "OnePlus 10 Pro",
          "Google Pixel 6",
          "Xiaomi 12"
         ],
         "yaxis": "y"
        }
       ],
       "layout": {
        "barmode": "relative",
        "legend": {
         "tracegroupgap": 0
        },
        "template": {
         "data": {
          "bar": [
           {
            "error_x": {
             "color": "#2a3f5f"
            },
            "error_y": {
             "color": "#2a3f5f"
            },
            "marker": {
             "line": {
              "color": "#E5ECF6",
              "width": 0.5
             },
             "pattern": {
              "fillmode": "overlay",
              "size": 10,
              "solidity": 0.2
             }
            },
            "type": "bar"
           }
          ],
          "barpolar": [
           {
            "marker": {
             "line": {
              "color": "#E5ECF6",
              "width": 0.5
             },
             "pattern": {
              "fillmode": "overlay",
              "size": 10,
              "solidity": 0.2
             }
            },
            "type": "barpolar"
           }
          ],
          "carpet": [
           {
            "aaxis": {
             "endlinecolor": "#2a3f5f",
             "gridcolor": "white",
             "linecolor": "white",
             "minorgridcolor": "white",
             "startlinecolor": "#2a3f5f"
            },
            "baxis": {
             "endlinecolor": "#2a3f5f",
             "gridcolor": "white",
             "linecolor": "white",
             "minorgridcolor": "white",
             "startlinecolor": "#2a3f5f"
            },
            "type": "carpet"
           }
          ],
          "choropleth": [
           {
            "colorbar": {
             "outlinewidth": 0,
             "ticks": ""
            },
            "type": "choropleth"
           }
          ],
          "contour": [
           {
            "colorbar": {
             "outlinewidth": 0,
             "ticks": ""
            },
            "colorscale": [
             [
              0,
              "#0d0887"
             ],
             [
              0.1111111111111111,
              "#46039f"
             ],
             [
              0.2222222222222222,
              "#7201a8"
             ],
             [
              0.3333333333333333,
              "#9c179e"
             ],
             [
              0.4444444444444444,
              "#bd3786"
             ],
             [
              0.5555555555555556,
              "#d8576b"
             ],
             [
              0.6666666666666666,
              "#ed7953"
             ],
             [
              0.7777777777777778,
              "#fb9f3a"
             ],
             [
              0.8888888888888888,
              "#fdca26"
             ],
             [
              1,
              "#f0f921"
             ]
            ],
            "type": "contour"
           }
          ],
          "contourcarpet": [
           {
            "colorbar": {
             "outlinewidth": 0,
             "ticks": ""
            },
            "type": "contourcarpet"
           }
          ],
          "heatmap": [
           {
            "colorbar": {
             "outlinewidth": 0,
             "ticks": ""
            },
            "colorscale": [
             [
              0,
              "#0d0887"
             ],
             [
              0.1111111111111111,
              "#46039f"
             ],
             [
              0.2222222222222222,
              "#7201a8"
             ],
             [
              0.3333333333333333,
              "#9c179e"
             ],
             [
              0.4444444444444444,
              "#bd3786"
             ],
             [
              0.5555555555555556,
              "#d8576b"
             ],
             [
              0.6666666666666666,
              "#ed7953"
             ],
             [
              0.7777777777777778,
              "#fb9f3a"
             ],
             [
              0.8888888888888888,
              "#fdca26"
             ],
             [
              1,
              "#f0f921"
             ]
            ],
            "type": "heatmap"
           }
          ],
          "heatmapgl": [
           {
            "colorbar": {
             "outlinewidth": 0,
             "ticks": ""
            },
            "colorscale": [
             [
              0,
              "#0d0887"
             ],
             [
              0.1111111111111111,
              "#46039f"
             ],
             [
              0.2222222222222222,
              "#7201a8"
             ],
             [
              0.3333333333333333,
              "#9c179e"
             ],
             [
              0.4444444444444444,
              "#bd3786"
             ],
             [
              0.5555555555555556,
              "#d8576b"
             ],
             [
              0.6666666666666666,
              "#ed7953"
             ],
             [
              0.7777777777777778,
              "#fb9f3a"
             ],
             [
              0.8888888888888888,
              "#fdca26"
             ],
             [
              1,
              "#f0f921"
             ]
            ],
            "type": "heatmapgl"
           }
          ],
          "histogram": [
           {
            "marker": {
             "pattern": {
              "fillmode": "overlay",
              "size": 10,
              "solidity": 0.2
             }
            },
            "type": "histogram"
           }
          ],
          "histogram2d": [
           {
            "colorbar": {
             "outlinewidth": 0,
             "ticks": ""
            },
            "colorscale": [
             [
              0,
              "#0d0887"
             ],
             [
              0.1111111111111111,
              "#46039f"
             ],
             [
              0.2222222222222222,
              "#7201a8"
             ],
             [
              0.3333333333333333,
              "#9c179e"
             ],
             [
              0.4444444444444444,
              "#bd3786"
             ],
             [
              0.5555555555555556,
              "#d8576b"
             ],
             [
              0.6666666666666666,
              "#ed7953"
             ],
             [
              0.7777777777777778,
              "#fb9f3a"
             ],
             [
              0.8888888888888888,
              "#fdca26"
             ],
             [
              1,
              "#f0f921"
             ]
            ],
            "type": "histogram2d"
           }
          ],
          "histogram2dcontour": [
           {
            "colorbar": {
             "outlinewidth": 0,
             "ticks": ""
            },
            "colorscale": [
             [
              0,
              "#0d0887"
             ],
             [
              0.1111111111111111,
              "#46039f"
             ],
             [
              0.2222222222222222,
              "#7201a8"
             ],
             [
              0.3333333333333333,
              "#9c179e"
             ],
             [
              0.4444444444444444,
              "#bd3786"
             ],
             [
              0.5555555555555556,
              "#d8576b"
             ],
             [
              0.6666666666666666,
              "#ed7953"
             ],
             [
              0.7777777777777778,
              "#fb9f3a"
             ],
             [
              0.8888888888888888,
              "#fdca26"
             ],
             [
              1,
              "#f0f921"
             ]
            ],
            "type": "histogram2dcontour"
           }
          ],
          "mesh3d": [
           {
            "colorbar": {
             "outlinewidth": 0,
             "ticks": ""
            },
            "type": "mesh3d"
           }
          ],
          "parcoords": [
           {
            "line": {
             "colorbar": {
              "outlinewidth": 0,
              "ticks": ""
             }
            },
            "type": "parcoords"
           }
          ],
          "pie": [
           {
            "automargin": true,
            "type": "pie"
           }
          ],
          "scatter": [
           {
            "fillpattern": {
             "fillmode": "overlay",
             "size": 10,
             "solidity": 0.2
            },
            "type": "scatter"
           }
          ],
          "scatter3d": [
           {
            "line": {
             "colorbar": {
              "outlinewidth": 0,
              "ticks": ""
             }
            },
            "marker": {
             "colorbar": {
              "outlinewidth": 0,
              "ticks": ""
             }
            },
            "type": "scatter3d"
           }
          ],
          "scattercarpet": [
           {
            "marker": {
             "colorbar": {
              "outlinewidth": 0,
              "ticks": ""
             }
            },
            "type": "scattercarpet"
           }
          ],
          "scattergeo": [
           {
            "marker": {
             "colorbar": {
              "outlinewidth": 0,
              "ticks": ""
             }
            },
            "type": "scattergeo"
           }
          ],
          "scattergl": [
           {
            "marker": {
             "colorbar": {
              "outlinewidth": 0,
              "ticks": ""
             }
            },
            "type": "scattergl"
           }
          ],
          "scattermapbox": [
           {
            "marker": {
             "colorbar": {
              "outlinewidth": 0,
              "ticks": ""
             }
            },
            "type": "scattermapbox"
           }
          ],
          "scatterpolar": [
           {
            "marker": {
             "colorbar": {
              "outlinewidth": 0,
              "ticks": ""
             }
            },
            "type": "scatterpolar"
           }
          ],
          "scatterpolargl": [
           {
            "marker": {
             "colorbar": {
              "outlinewidth": 0,
              "ticks": ""
             }
            },
            "type": "scatterpolargl"
           }
          ],
          "scatterternary": [
           {
            "marker": {
             "colorbar": {
              "outlinewidth": 0,
              "ticks": ""
             }
            },
            "type": "scatterternary"
           }
          ],
          "surface": [
           {
            "colorbar": {
             "outlinewidth": 0,
             "ticks": ""
            },
            "colorscale": [
             [
              0,
              "#0d0887"
             ],
             [
              0.1111111111111111,
              "#46039f"
             ],
             [
              0.2222222222222222,
              "#7201a8"
             ],
             [
              0.3333333333333333,
              "#9c179e"
             ],
             [
              0.4444444444444444,
              "#bd3786"
             ],
             [
              0.5555555555555556,
              "#d8576b"
             ],
             [
              0.6666666666666666,
              "#ed7953"
             ],
             [
              0.7777777777777778,
              "#fb9f3a"
             ],
             [
              0.8888888888888888,
              "#fdca26"
             ],
             [
              1,
              "#f0f921"
             ]
            ],
            "type": "surface"
           }
          ],
          "table": [
           {
            "cells": {
             "fill": {
              "color": "#EBF0F8"
             },
             "line": {
              "color": "white"
             }
            },
            "header": {
             "fill": {
              "color": "#C8D4E3"
             },
             "line": {
              "color": "white"
             }
            },
            "type": "table"
           }
          ]
         },
         "layout": {
          "annotationdefaults": {
           "arrowcolor": "#2a3f5f",
           "arrowhead": 0,
           "arrowwidth": 1
          },
          "autotypenumbers": "strict",
          "coloraxis": {
           "colorbar": {
            "outlinewidth": 0,
            "ticks": ""
           }
          },
          "colorscale": {
           "diverging": [
            [
             0,
             "#8e0152"
            ],
            [
             0.1,
             "#c51b7d"
            ],
            [
             0.2,
             "#de77ae"
            ],
            [
             0.3,
             "#f1b6da"
            ],
            [
             0.4,
             "#fde0ef"
            ],
            [
             0.5,
             "#f7f7f7"
            ],
            [
             0.6,
             "#e6f5d0"
            ],
            [
             0.7,
             "#b8e186"
            ],
            [
             0.8,
             "#7fbc41"
            ],
            [
             0.9,
             "#4d9221"
            ],
            [
             1,
             "#276419"
            ]
           ],
           "sequential": [
            [
             0,
             "#0d0887"
            ],
            [
             0.1111111111111111,
             "#46039f"
            ],
            [
             0.2222222222222222,
             "#7201a8"
            ],
            [
             0.3333333333333333,
             "#9c179e"
            ],
            [
             0.4444444444444444,
             "#bd3786"
            ],
            [
             0.5555555555555556,
             "#d8576b"
            ],
            [
             0.6666666666666666,
             "#ed7953"
            ],
            [
             0.7777777777777778,
             "#fb9f3a"
            ],
            [
             0.8888888888888888,
             "#fdca26"
            ],
            [
             1,
             "#f0f921"
            ]
           ],
           "sequentialminus": [
            [
             0,
             "#0d0887"
            ],
            [
             0.1111111111111111,
             "#46039f"
            ],
            [
             0.2222222222222222,
             "#7201a8"
            ],
            [
             0.3333333333333333,
             "#9c179e"
            ],
            [
             0.4444444444444444,
             "#bd3786"
            ],
            [
             0.5555555555555556,
             "#d8576b"
            ],
            [
             0.6666666666666666,
             "#ed7953"
            ],
            [
             0.7777777777777778,
             "#fb9f3a"
            ],
            [
             0.8888888888888888,
             "#fdca26"
            ],
            [
             1,
             "#f0f921"
            ]
           ]
          },
          "colorway": [
           "#636efa",
           "#EF553B",
           "#00cc96",
           "#ab63fa",
           "#FFA15A",
           "#19d3f3",
           "#FF6692",
           "#B6E880",
           "#FF97FF",
           "#FECB52"
          ],
          "font": {
           "color": "#2a3f5f"
          },
          "geo": {
           "bgcolor": "white",
           "lakecolor": "white",
           "landcolor": "#E5ECF6",
           "showlakes": true,
           "showland": true,
           "subunitcolor": "white"
          },
          "hoverlabel": {
           "align": "left"
          },
          "hovermode": "closest",
          "mapbox": {
           "style": "light"
          },
          "paper_bgcolor": "white",
          "plot_bgcolor": "#E5ECF6",
          "polar": {
           "angularaxis": {
            "gridcolor": "white",
            "linecolor": "white",
            "ticks": ""
           },
           "bgcolor": "#E5ECF6",
           "radialaxis": {
            "gridcolor": "white",
            "linecolor": "white",
            "ticks": ""
           }
          },
          "scene": {
           "xaxis": {
            "backgroundcolor": "#E5ECF6",
            "gridcolor": "white",
            "gridwidth": 2,
            "linecolor": "white",
            "showbackground": true,
            "ticks": "",
            "zerolinecolor": "white"
           },
           "yaxis": {
            "backgroundcolor": "#E5ECF6",
            "gridcolor": "white",
            "gridwidth": 2,
            "linecolor": "white",
            "showbackground": true,
            "ticks": "",
            "zerolinecolor": "white"
           },
           "zaxis": {
            "backgroundcolor": "#E5ECF6",
            "gridcolor": "white",
            "gridwidth": 2,
            "linecolor": "white",
            "showbackground": true,
            "ticks": "",
            "zerolinecolor": "white"
           }
          },
          "shapedefaults": {
           "line": {
            "color": "#2a3f5f"
           }
          },
          "ternary": {
           "aaxis": {
            "gridcolor": "white",
            "linecolor": "white",
            "ticks": ""
           },
           "baxis": {
            "gridcolor": "white",
            "linecolor": "white",
            "ticks": ""
           },
           "bgcolor": "#E5ECF6",
           "caxis": {
            "gridcolor": "white",
            "linecolor": "white",
            "ticks": ""
           }
          },
          "title": {
           "x": 0.05
          },
          "xaxis": {
           "automargin": true,
           "gridcolor": "white",
           "linecolor": "white",
           "ticks": "",
           "title": {
            "standoff": 15
           },
           "zerolinecolor": "white",
           "zerolinewidth": 2
          },
          "yaxis": {
           "automargin": true,
           "gridcolor": "white",
           "linecolor": "white",
           "ticks": "",
           "title": {
            "standoff": 15
           },
           "zerolinecolor": "white",
           "zerolinewidth": 2
          }
         }
        },
        "title": {
         "text": "Top 5 Produtos por Vendas"
        },
        "xaxis": {
         "anchor": "y",
         "domain": [
          0,
          1
         ],
         "title": {
          "text": "Total_Venda"
         }
        },
        "yaxis": {
         "anchor": "x",
         "domain": [
          0,
          1
         ],
         "title": {
          "text": "Produto"
         }
        }
       }
      }
     },
     "metadata": {},
     "output_type": "display_data"
    }
   ],
   "source": [
    "# Produtos Mais Vendidos (em valor total):\n",
    "top_produtos = df.groupby('Produto')['Total_Venda'].sum().nlargest(5).reset_index()\n",
    "fig_prod = px.bar(top_produtos, x='Total_Venda', y='Produto', title='Top 5 Produtos por Vendas', orientation='h')\n",
    "fig_prod.show()"
   ]
  },
  {
   "cell_type": "code",
   "execution_count": 68,
   "id": "c29b592e",
   "metadata": {},
   "outputs": [
    {
     "data": {
      "application/vnd.plotly.v1+json": {
       "config": {
        "plotlyServerURL": "https://plot.ly"
       },
       "data": [
        {
         "alignmentgroup": "True",
         "hovertemplate": "Quantidade=%{x}<br>Produto=%{y}<extra></extra>",
         "legendgroup": "",
         "marker": {
          "color": "#636efa",
          "pattern": {
           "shape": ""
          }
         },
         "name": "",
         "offsetgroup": "",
         "orientation": "h",
         "showlegend": false,
         "textposition": "auto",
         "type": "bar",
         "x": [
          27685,
          27657,
          27545,
          27481,
          27381
         ],
         "xaxis": "x",
         "y": [
          "Fone de Ouvido Bluetooth",
          "Protetor de tela de vidro",
          "Xiaomi 12",
          "Carregador USB-C",
          "Samsung Galaxy S22"
         ],
         "yaxis": "y"
        }
       ],
       "layout": {
        "barmode": "relative",
        "legend": {
         "tracegroupgap": 0
        },
        "template": {
         "data": {
          "bar": [
           {
            "error_x": {
             "color": "#2a3f5f"
            },
            "error_y": {
             "color": "#2a3f5f"
            },
            "marker": {
             "line": {
              "color": "#E5ECF6",
              "width": 0.5
             },
             "pattern": {
              "fillmode": "overlay",
              "size": 10,
              "solidity": 0.2
             }
            },
            "type": "bar"
           }
          ],
          "barpolar": [
           {
            "marker": {
             "line": {
              "color": "#E5ECF6",
              "width": 0.5
             },
             "pattern": {
              "fillmode": "overlay",
              "size": 10,
              "solidity": 0.2
             }
            },
            "type": "barpolar"
           }
          ],
          "carpet": [
           {
            "aaxis": {
             "endlinecolor": "#2a3f5f",
             "gridcolor": "white",
             "linecolor": "white",
             "minorgridcolor": "white",
             "startlinecolor": "#2a3f5f"
            },
            "baxis": {
             "endlinecolor": "#2a3f5f",
             "gridcolor": "white",
             "linecolor": "white",
             "minorgridcolor": "white",
             "startlinecolor": "#2a3f5f"
            },
            "type": "carpet"
           }
          ],
          "choropleth": [
           {
            "colorbar": {
             "outlinewidth": 0,
             "ticks": ""
            },
            "type": "choropleth"
           }
          ],
          "contour": [
           {
            "colorbar": {
             "outlinewidth": 0,
             "ticks": ""
            },
            "colorscale": [
             [
              0,
              "#0d0887"
             ],
             [
              0.1111111111111111,
              "#46039f"
             ],
             [
              0.2222222222222222,
              "#7201a8"
             ],
             [
              0.3333333333333333,
              "#9c179e"
             ],
             [
              0.4444444444444444,
              "#bd3786"
             ],
             [
              0.5555555555555556,
              "#d8576b"
             ],
             [
              0.6666666666666666,
              "#ed7953"
             ],
             [
              0.7777777777777778,
              "#fb9f3a"
             ],
             [
              0.8888888888888888,
              "#fdca26"
             ],
             [
              1,
              "#f0f921"
             ]
            ],
            "type": "contour"
           }
          ],
          "contourcarpet": [
           {
            "colorbar": {
             "outlinewidth": 0,
             "ticks": ""
            },
            "type": "contourcarpet"
           }
          ],
          "heatmap": [
           {
            "colorbar": {
             "outlinewidth": 0,
             "ticks": ""
            },
            "colorscale": [
             [
              0,
              "#0d0887"
             ],
             [
              0.1111111111111111,
              "#46039f"
             ],
             [
              0.2222222222222222,
              "#7201a8"
             ],
             [
              0.3333333333333333,
              "#9c179e"
             ],
             [
              0.4444444444444444,
              "#bd3786"
             ],
             [
              0.5555555555555556,
              "#d8576b"
             ],
             [
              0.6666666666666666,
              "#ed7953"
             ],
             [
              0.7777777777777778,
              "#fb9f3a"
             ],
             [
              0.8888888888888888,
              "#fdca26"
             ],
             [
              1,
              "#f0f921"
             ]
            ],
            "type": "heatmap"
           }
          ],
          "heatmapgl": [
           {
            "colorbar": {
             "outlinewidth": 0,
             "ticks": ""
            },
            "colorscale": [
             [
              0,
              "#0d0887"
             ],
             [
              0.1111111111111111,
              "#46039f"
             ],
             [
              0.2222222222222222,
              "#7201a8"
             ],
             [
              0.3333333333333333,
              "#9c179e"
             ],
             [
              0.4444444444444444,
              "#bd3786"
             ],
             [
              0.5555555555555556,
              "#d8576b"
             ],
             [
              0.6666666666666666,
              "#ed7953"
             ],
             [
              0.7777777777777778,
              "#fb9f3a"
             ],
             [
              0.8888888888888888,
              "#fdca26"
             ],
             [
              1,
              "#f0f921"
             ]
            ],
            "type": "heatmapgl"
           }
          ],
          "histogram": [
           {
            "marker": {
             "pattern": {
              "fillmode": "overlay",
              "size": 10,
              "solidity": 0.2
             }
            },
            "type": "histogram"
           }
          ],
          "histogram2d": [
           {
            "colorbar": {
             "outlinewidth": 0,
             "ticks": ""
            },
            "colorscale": [
             [
              0,
              "#0d0887"
             ],
             [
              0.1111111111111111,
              "#46039f"
             ],
             [
              0.2222222222222222,
              "#7201a8"
             ],
             [
              0.3333333333333333,
              "#9c179e"
             ],
             [
              0.4444444444444444,
              "#bd3786"
             ],
             [
              0.5555555555555556,
              "#d8576b"
             ],
             [
              0.6666666666666666,
              "#ed7953"
             ],
             [
              0.7777777777777778,
              "#fb9f3a"
             ],
             [
              0.8888888888888888,
              "#fdca26"
             ],
             [
              1,
              "#f0f921"
             ]
            ],
            "type": "histogram2d"
           }
          ],
          "histogram2dcontour": [
           {
            "colorbar": {
             "outlinewidth": 0,
             "ticks": ""
            },
            "colorscale": [
             [
              0,
              "#0d0887"
             ],
             [
              0.1111111111111111,
              "#46039f"
             ],
             [
              0.2222222222222222,
              "#7201a8"
             ],
             [
              0.3333333333333333,
              "#9c179e"
             ],
             [
              0.4444444444444444,
              "#bd3786"
             ],
             [
              0.5555555555555556,
              "#d8576b"
             ],
             [
              0.6666666666666666,
              "#ed7953"
             ],
             [
              0.7777777777777778,
              "#fb9f3a"
             ],
             [
              0.8888888888888888,
              "#fdca26"
             ],
             [
              1,
              "#f0f921"
             ]
            ],
            "type": "histogram2dcontour"
           }
          ],
          "mesh3d": [
           {
            "colorbar": {
             "outlinewidth": 0,
             "ticks": ""
            },
            "type": "mesh3d"
           }
          ],
          "parcoords": [
           {
            "line": {
             "colorbar": {
              "outlinewidth": 0,
              "ticks": ""
             }
            },
            "type": "parcoords"
           }
          ],
          "pie": [
           {
            "automargin": true,
            "type": "pie"
           }
          ],
          "scatter": [
           {
            "fillpattern": {
             "fillmode": "overlay",
             "size": 10,
             "solidity": 0.2
            },
            "type": "scatter"
           }
          ],
          "scatter3d": [
           {
            "line": {
             "colorbar": {
              "outlinewidth": 0,
              "ticks": ""
             }
            },
            "marker": {
             "colorbar": {
              "outlinewidth": 0,
              "ticks": ""
             }
            },
            "type": "scatter3d"
           }
          ],
          "scattercarpet": [
           {
            "marker": {
             "colorbar": {
              "outlinewidth": 0,
              "ticks": ""
             }
            },
            "type": "scattercarpet"
           }
          ],
          "scattergeo": [
           {
            "marker": {
             "colorbar": {
              "outlinewidth": 0,
              "ticks": ""
             }
            },
            "type": "scattergeo"
           }
          ],
          "scattergl": [
           {
            "marker": {
             "colorbar": {
              "outlinewidth": 0,
              "ticks": ""
             }
            },
            "type": "scattergl"
           }
          ],
          "scattermapbox": [
           {
            "marker": {
             "colorbar": {
              "outlinewidth": 0,
              "ticks": ""
             }
            },
            "type": "scattermapbox"
           }
          ],
          "scatterpolar": [
           {
            "marker": {
             "colorbar": {
              "outlinewidth": 0,
              "ticks": ""
             }
            },
            "type": "scatterpolar"
           }
          ],
          "scatterpolargl": [
           {
            "marker": {
             "colorbar": {
              "outlinewidth": 0,
              "ticks": ""
             }
            },
            "type": "scatterpolargl"
           }
          ],
          "scatterternary": [
           {
            "marker": {
             "colorbar": {
              "outlinewidth": 0,
              "ticks": ""
             }
            },
            "type": "scatterternary"
           }
          ],
          "surface": [
           {
            "colorbar": {
             "outlinewidth": 0,
             "ticks": ""
            },
            "colorscale": [
             [
              0,
              "#0d0887"
             ],
             [
              0.1111111111111111,
              "#46039f"
             ],
             [
              0.2222222222222222,
              "#7201a8"
             ],
             [
              0.3333333333333333,
              "#9c179e"
             ],
             [
              0.4444444444444444,
              "#bd3786"
             ],
             [
              0.5555555555555556,
              "#d8576b"
             ],
             [
              0.6666666666666666,
              "#ed7953"
             ],
             [
              0.7777777777777778,
              "#fb9f3a"
             ],
             [
              0.8888888888888888,
              "#fdca26"
             ],
             [
              1,
              "#f0f921"
             ]
            ],
            "type": "surface"
           }
          ],
          "table": [
           {
            "cells": {
             "fill": {
              "color": "#EBF0F8"
             },
             "line": {
              "color": "white"
             }
            },
            "header": {
             "fill": {
              "color": "#C8D4E3"
             },
             "line": {
              "color": "white"
             }
            },
            "type": "table"
           }
          ]
         },
         "layout": {
          "annotationdefaults": {
           "arrowcolor": "#2a3f5f",
           "arrowhead": 0,
           "arrowwidth": 1
          },
          "autotypenumbers": "strict",
          "coloraxis": {
           "colorbar": {
            "outlinewidth": 0,
            "ticks": ""
           }
          },
          "colorscale": {
           "diverging": [
            [
             0,
             "#8e0152"
            ],
            [
             0.1,
             "#c51b7d"
            ],
            [
             0.2,
             "#de77ae"
            ],
            [
             0.3,
             "#f1b6da"
            ],
            [
             0.4,
             "#fde0ef"
            ],
            [
             0.5,
             "#f7f7f7"
            ],
            [
             0.6,
             "#e6f5d0"
            ],
            [
             0.7,
             "#b8e186"
            ],
            [
             0.8,
             "#7fbc41"
            ],
            [
             0.9,
             "#4d9221"
            ],
            [
             1,
             "#276419"
            ]
           ],
           "sequential": [
            [
             0,
             "#0d0887"
            ],
            [
             0.1111111111111111,
             "#46039f"
            ],
            [
             0.2222222222222222,
             "#7201a8"
            ],
            [
             0.3333333333333333,
             "#9c179e"
            ],
            [
             0.4444444444444444,
             "#bd3786"
            ],
            [
             0.5555555555555556,
             "#d8576b"
            ],
            [
             0.6666666666666666,
             "#ed7953"
            ],
            [
             0.7777777777777778,
             "#fb9f3a"
            ],
            [
             0.8888888888888888,
             "#fdca26"
            ],
            [
             1,
             "#f0f921"
            ]
           ],
           "sequentialminus": [
            [
             0,
             "#0d0887"
            ],
            [
             0.1111111111111111,
             "#46039f"
            ],
            [
             0.2222222222222222,
             "#7201a8"
            ],
            [
             0.3333333333333333,
             "#9c179e"
            ],
            [
             0.4444444444444444,
             "#bd3786"
            ],
            [
             0.5555555555555556,
             "#d8576b"
            ],
            [
             0.6666666666666666,
             "#ed7953"
            ],
            [
             0.7777777777777778,
             "#fb9f3a"
            ],
            [
             0.8888888888888888,
             "#fdca26"
            ],
            [
             1,
             "#f0f921"
            ]
           ]
          },
          "colorway": [
           "#636efa",
           "#EF553B",
           "#00cc96",
           "#ab63fa",
           "#FFA15A",
           "#19d3f3",
           "#FF6692",
           "#B6E880",
           "#FF97FF",
           "#FECB52"
          ],
          "font": {
           "color": "#2a3f5f"
          },
          "geo": {
           "bgcolor": "white",
           "lakecolor": "white",
           "landcolor": "#E5ECF6",
           "showlakes": true,
           "showland": true,
           "subunitcolor": "white"
          },
          "hoverlabel": {
           "align": "left"
          },
          "hovermode": "closest",
          "mapbox": {
           "style": "light"
          },
          "paper_bgcolor": "white",
          "plot_bgcolor": "#E5ECF6",
          "polar": {
           "angularaxis": {
            "gridcolor": "white",
            "linecolor": "white",
            "ticks": ""
           },
           "bgcolor": "#E5ECF6",
           "radialaxis": {
            "gridcolor": "white",
            "linecolor": "white",
            "ticks": ""
           }
          },
          "scene": {
           "xaxis": {
            "backgroundcolor": "#E5ECF6",
            "gridcolor": "white",
            "gridwidth": 2,
            "linecolor": "white",
            "showbackground": true,
            "ticks": "",
            "zerolinecolor": "white"
           },
           "yaxis": {
            "backgroundcolor": "#E5ECF6",
            "gridcolor": "white",
            "gridwidth": 2,
            "linecolor": "white",
            "showbackground": true,
            "ticks": "",
            "zerolinecolor": "white"
           },
           "zaxis": {
            "backgroundcolor": "#E5ECF6",
            "gridcolor": "white",
            "gridwidth": 2,
            "linecolor": "white",
            "showbackground": true,
            "ticks": "",
            "zerolinecolor": "white"
           }
          },
          "shapedefaults": {
           "line": {
            "color": "#2a3f5f"
           }
          },
          "ternary": {
           "aaxis": {
            "gridcolor": "white",
            "linecolor": "white",
            "ticks": ""
           },
           "baxis": {
            "gridcolor": "white",
            "linecolor": "white",
            "ticks": ""
           },
           "bgcolor": "#E5ECF6",
           "caxis": {
            "gridcolor": "white",
            "linecolor": "white",
            "ticks": ""
           }
          },
          "title": {
           "x": 0.05
          },
          "xaxis": {
           "automargin": true,
           "gridcolor": "white",
           "linecolor": "white",
           "ticks": "",
           "title": {
            "standoff": 15
           },
           "zerolinecolor": "white",
           "zerolinewidth": 2
          },
          "yaxis": {
           "automargin": true,
           "gridcolor": "white",
           "linecolor": "white",
           "ticks": "",
           "title": {
            "standoff": 15
           },
           "zerolinecolor": "white",
           "zerolinewidth": 2
          }
         }
        },
        "title": {
         "text": "Top 5 Produtos por Quantidade"
        },
        "xaxis": {
         "anchor": "y",
         "domain": [
          0,
          1
         ],
         "title": {
          "text": "Quantidade"
         }
        },
        "yaxis": {
         "anchor": "x",
         "domain": [
          0,
          1
         ],
         "title": {
          "text": "Produto"
         }
        }
       }
      }
     },
     "metadata": {},
     "output_type": "display_data"
    }
   ],
   "source": [
    "# Produtos Mais Vendidos (em valor total):\n",
    "top_produtos = df.groupby('Produto')['Quantidade'].sum().nlargest(5).reset_index()\n",
    "fig_prod = px.bar(top_produtos, x='Quantidade', y='Produto', title='Top 5 Produtos por Quantidade', orientation='h')\n",
    "fig_prod.show()"
   ]
  },
  {
   "cell_type": "code",
   "execution_count": 69,
   "id": "94ad82b8",
   "metadata": {},
   "outputs": [
    {
     "name": "stdout",
     "output_type": "stream",
     "text": [
      "\n",
      "Top 5 Clientes por Vendas:\n",
      "Nome_Cliente\n",
      "Vicente Silva       12488.0\n",
      "Ana Beatriz Leão    12250.0\n",
      "Fabiana Barros      10696.0\n",
      "John Davis          10643.0\n",
      "Bárbara Lima        10591.0\n",
      "Name: Total_Venda, dtype: float64\n"
     ]
    }
   ],
   "source": [
    "# Top 5 Clientes por Valor de Vendas\n",
    "top_clientes = df.groupby('Nome_Cliente')['Total_Venda'].sum().nlargest(5)\n",
    "print(\"\\nTop 5 Clientes por Vendas:\")\n",
    "print(top_clientes)"
   ]
  },
  {
   "cell_type": "code",
   "execution_count": 70,
   "id": "68068ddc",
   "metadata": {},
   "outputs": [
    {
     "name": "stdout",
     "output_type": "stream",
     "text": [
      "\n",
      "Preço Unitário Médio por Categoria:\n",
      "Categoria_Produto\n",
      "Celulares     738.940864\n",
      "Acessórios     46.441267\n",
      "Name: Preço_Unitário, dtype: float64\n"
     ]
    }
   ],
   "source": [
    "# Ticket médio por categoria\n",
    "preco_medio_categoria = df.groupby('Categoria_Produto')['Preço_Unitário'].mean().sort_values(ascending=False)\n",
    "print(\"\\nPreço Unitário Médio por Categoria:\")\n",
    "print(preco_medio_categoria)"
   ]
  },
  {
   "cell_type": "code",
   "execution_count": null,
   "id": "a806930e",
   "metadata": {},
   "outputs": [
    {
     "data": {
      "application/vnd.plotly.v1+json": {
       "config": {
        "plotlyServerURL": "https://plot.ly"
       },
       "data": [
        {
         "coloraxis": "coloraxis",
         "geo": "geo",
         "hovertemplate": "<b>%{hovertext}</b><br><br>País=%{location}<br>Total_Venda=%{z}<extra></extra>",
         "hovertext": [
          "Afeganistão",
          "Afganistán",
          "Afghanistan",
          "Afrique du sud",
          "Akrotiri",
          "Alandinseln",
          "Albania",
          "Albanie",
          "Albanien",
          "Albânia",
          "Alemanha",
          "Alemania",
          "Algeria",
          "Algerien",
          "Algérie",
          "Allemagne",
          "American Samoa",
          "Amerikanisch-Ozeanien",
          "Amerikanisch-Samoa",
          "Amerikanische Jungferninseln",
          "Andorra",
          "Andorre",
          "Angola",
          "Anguila",
          "Anguilla",
          "Antarctica (the territory South of 60 deg S)",
          "Antarctique",
          "Antarktis",
          "Antartide (territori a sud del 60° parallelo)",
          "Antigua and Barbuda",
          "Antigua e Barbuda",
          "Antigua et Barbuda",
          "Antigua und Barbuda",
          "Antigua y Barbuda",
          "Antilhas Holandesas",
          "Antilhas Neerlandesas",
          "Antille Olandesi",
          "Antilles néerlandaises",
          "Antárctida",
          "Antártica",
          "Antígua e Barbuda",
          "Arabia Saudita",
          "Arabie saoudite",
          "Arctic Ocean",
          "Argelia",
          "Argentina",
          "Argentine",
          "Argentinien",
          "Argélia",
          "Armenia",
          "Armenien",
          "Arménia",
          "Arménie",
          "Armênia",
          "Aruba",
          "Arábia Saudita",
          "Aserbaidschan",
          "Ashmore and Cartier Islands",
          "Atlantic Ocean",
          "Australia",
          "Australie",
          "Australien",
          "Austria",
          "Austrália",
          "Autriche",
          "Azerbaijan",
          "Azerbaijão",
          "Azerbaiyán",
          "Azerbaïdjan",
          "Baamas",
          "Bahamas",
          "Bahrain",
          "Bahrein",
          "Bangladeche",
          "Bangladesch",
          "Bangladesh",
          "Barbados",
          "Barein",
          "Barém",
          "Belarus",
          "Belarús",
          "Belgien",
          "Belgio",
          "Belgique",
          "Belgium",
          "Belice",
          "Belize",
          "Benim",
          "Benin",
          "Bermuda",
          "Bermudas",
          "Bermudes (Les)",
          "Bhoutan",
          "Bhutan",
          "Bhután",
          "Bielorrússia",
          "Bielorussia",
          "Birmânia",
          "Biélorussie",
          "Bolivia",
          "Bolivie",
          "Bolivien",
          "Bolívia",
          "Bosnia and Herzegovina",
          "Bosnia e Herzegovina",
          "Bosnia y Herzegovina",
          "Bosnie-Herzégovine",
          "Bosnien und Herzegowina",
          "Botsuana",
          "Botswana",
          "Bouvet (Îles)",
          "Bouvet Island (Bouvetoya)",
          "Bouvetinsel",
          "Brasil",
          "Brasile",
          "Brasilien",
          "Brazil",
          "Britische Jungferninseln",
          "Britisches Territorium im Indischen Ozean",
          "British Indian Ocean Territory (Chagos Archipelago)",
          "British Virgin Islands",
          "Brunei",
          "Brunei Darussalam",
          "Brésil",
          "Bulgaria",
          "Bulgarie",
          "Bulgarien",
          "Bulgária",
          "Burkina Faso",
          "Burquina Faso",
          "Burundi",
          "Burúndi",
          "Butão",
          "Bélgica",
          "Bósnia e Herzegovina",
          "Cabo Verde",
          "Camarões",
          "Cambodge",
          "Cambodia",
          "Cambogia",
          "Camboja",
          "Camboya",
          "Cameroon",
          "Cameroun",
          "Camerún",
          "Canada",
          "Canadá",
          "Cap Vert",
          "Cape Verde",
          "Capo Verde",
          "Catar",
          "Cayman (Îles)",
          "Cayman Islands",
          "Cazaquistão",
          "Central African Republic",
          "Chad",
          "Chade",
          "Chile",
          "Chili",
          "China",
          "Chine (Rép. pop.)",
          "Chipre",
          "Christmas (Île)",
          "Christmas Island",
          "Chypre",
          "Cile",
          "Cina",
          "Cipro",
          "Città del Vaticano",
          "Clipperton Island",
          "Cocos (Keeling) Islands",
          "Cocos (Îles)",
          "Colombia",
          "Colombie",
          "Colômbia",
          "Comoras",
          "Comores",
          "Comoros",
          "Congo",
          "Congo-Brazzaville",
          "Congo-Kinshasa",
          "Cook (Îles)",
          "Cook Islands",
          "Cookinseln",
          "Coral Sea Islands",
          "Coreia do Norte",
          "Coreia do Sul",
          "Corée du Nord",
          "Corée, Sud",
          "Costa Rica",
          "Costa d'Avorio",
          "Costa do Marfim",
          "Cote d'Ivoire",
          "Croacia",
          "Croatia",
          "Croatie",
          "Croazia",
          "Croácia",
          "Cuba",
          "Cyprus",
          "Czech Republic",
          "Côte d'Ivoire",
          "Côte d’Ivoire",
          "Danemark",
          "Danimarca",
          "Demokratische Republik Kongo",
          "Demokratische Volksrepublik Korea",
          "Denmark",
          "Deutschland",
          "Dhekelia",
          "Dinamarca",
          "Djibouti",
          "Dominica",
          "Dominican Republic",
          "Dominicana",
          "Dominikanische Republik",
          "Dominique",
          "Domínica",
          "Dschibuti",
          "Dänemark",
          "Ecuador",
          "Egipto",
          "Egito",
          "Egitto",
          "Egypt",
          "El Salvador",
          "Emirados Árabes Unidos",
          "Emirati Arabi Uniti",
          "Emiratos Árabes Unidos",
          "Equador",
          "Equatorial Guinea",
          "Eritrea",
          "Eritreia",
          "Eslovaquia",
          "Eslovenia",
          "Eslováquia",
          "Eslovénia",
          "Eslovênia",
          "Espagne",
          "Espanha",
          "España",
          "Estados Unidos",
          "Estados Unidos de América",
          "Estland",
          "Estonia",
          "Estonie",
          "Estónia",
          "Estônia",
          "Ethiopia",
          "Ethiopie",
          "Etiopia",
          "Etiopía",
          "Etiópia",
          "Falkland (Île)",
          "Falkland Islands (Malvinas)",
          "Falklandinseln",
          "Faroe Islands",
          "Faroé",
          "Federación de Rusia",
          "Fidji (République des)",
          "Fidschi",
          "Fiji",
          "Filipinas",
          "Filippine",
          "Finland",
          "Finlande",
          "Finlandia",
          "Finlândia",
          "Finnland",
          "France",
          "Francia",
          "Frankreich",
          "Französisch-Guayana",
          "Französisch-Polynesien",
          "França",
          "French Guiana",
          "French Polynesia",
          "French Southern Territories",
          "Färöer",
          "Féroé (Îles)",
          "Gabon",
          "Gabun",
          "Gabão",
          "Gabón",
          "Gambia",
          "Gambie",
          "Gana",
          "Gaza Strip",
          "Georgia",
          "Georgia del sud e South Sandwich Islands",
          "Georgien",
          "Germania",
          "Germany",
          "Geórgia",
          "Geórgia do Sul e Sandwich do Sul",
          "Ghana",
          "Giamaica",
          "Giappone",
          "Gibilterra",
          "Gibraltar",
          "Gibuti",
          "Giordania",
          "Granada",
          "Grecia",
          "Greece",
          "Greenland",
          "Grenada",
          "Grenade",
          "Griechenland",
          "Groenland",
          "Groenlandia",
          "Groenlândia",
          "Gronelândia",
          "Grèce",
          "Grécia",
          "Grönland",
          "Guadalupa",
          "Guadeloupe",
          "Guam",
          "Guame",
          "Guatemala",
          "Guernsey",
          "Guiana",
          "Guinea",
          "Guinea Bissau",
          "Guinea Ecuatorial",
          "Guinea Equatoriale",
          "Guinea-Bissau",
          "Guiné",
          "Guiné Equatorial",
          "Guiné-Bissau",
          "Guinée",
          "Guinée Equatoriale",
          "Guinée-Bissau",
          "Guyana",
          "Guyana Francese",
          "Guyane",
          "Guyane française",
          "Gâmbia",
          "Géorgie",
          "Géorgie du Sud et Sandwich du Sud (Îles)",
          "Haiti",
          "Haití",
          "Haïti",
          "Heard Island and McDonald Islands",
          "Heard et McDonald (Îles)",
          "Heard- und McDonald-Inseln",
          "Holy See (Vatican City State)",
          "Honduras",
          "Hong Kong",
          "Hongrie",
          "Hungary",
          "Hungria",
          "Hungría",
          "Iceland",
          "Ilha Bouvet",
          "Ilha Norfolk",
          "Ilha Wake",
          "Ilha de Man",
          "Ilha do Natal",
          "Ilhas Caiman",
          "Ilhas Caimão",
          "Ilhas Cook",
          "Ilhas Falkland",
          "Ilhas Heard e McDonald",
          "Ilhas Marshall",
          "Ilhas Salomão",
          "Ilhas Turcas e Caicos",
          "Ilhas Virgens Americanas",
          "Ilhas Virgens Britânicas",
          "Ilhas dos Cocos",
          "Inde",
          "India",
          "Indian Ocean",
          "Indien",
          "Indonesia",
          "Indonesien",
          "Indonésia",
          "Indonésie",
          "Irak",
          "Iran",
          "Iraq",
          "Iraque",
          "Ireland",
          "Irland",
          "Irlanda",
          "Irlande",
          "Irán",
          "Irão",
          "Island",
          "Islanda",
          "Islande",
          "Islandia",
          "Islas Marshall",
          "Islas Salomón",
          "Isle of Man",
          "Islândia",
          "Isola di Cocos (Keeling)",
          "Isola di Man",
          "Isola di Pasqua",
          "Isole Cayman",
          "Isole Cook",
          "Isole Falkland (Malvinas)",
          "Isole Faroe",
          "Isole Marshall",
          "Isole Norfolk",
          "Isole Solomon",
          "Isole Vergini Britanniche",
          "Isole Vergini Statunitensi",
          "Isole di Turks and Caicos",
          "Israel",
          "Israele",
          "Israël",
          "Italia",
          "Italie",
          "Italien",
          "Italy",
          "Itália",
          "Iémen",
          "Iêmen",
          "Jamaica",
          "Jamaika",
          "Jamaïque",
          "Jan Mayen",
          "Japan",
          "Japon",
          "Japão",
          "Japón",
          "Jemen",
          "Jersey",
          "Jibuti",
          "Jordan",
          "Jordania",
          "Jordanie",
          "Jordanien",
          "Jordânia",
          "Kaimaninseln",
          "Kambodscha",
          "Kamerun",
          "Kanada",
          "Kap Verde",
          "Kasachstan",
          "Katar",
          "Kazajstán",
          "Kazakhstan",
          "Kenia",
          "Kenya",
          "Kirghizistan",
          "Kirgisistan",
          "Kirguistán",
          "Kiribati",
          "Kokosinseln",
          "Kolumbien",
          "Komoren",
          "Kongo",
          "Korea",
          "Koweit",
          "Kroatien",
          "Kuba",
          "Kuwait",
          "Kyrgyz Republic",
          "La Barbad",
          "Lao People's Democratic Republic",
          "Laos",
          "Latvia",
          "Lebanon",
          "Lesotho",
          "Lesoto",
          "Letonia",
          "Lettland",
          "Lettonie",
          "Letónia",
          "Letônia",
          "Liban",
          "Libano",
          "Libanon",
          "Liberia",
          "Libia",
          "Libyan Arab Jamahiriya",
          "Libye",
          "Libyen",
          "Libéria",
          "Liechtenstein",
          "Listenstaine",
          "Litauen",
          "Lithuania",
          "Lithuanie",
          "Lituania",
          "Lituânia",
          "Lussemburgo",
          "Luxembourg",
          "Luxemburg",
          "Luxemburgo",
          "Líbano",
          "Líbia",
          "Macao",
          "Macau",
          "Macedonia del Nord",
          "Macedónia do Norte",
          "Macedônia do Norte",
          "Macédoine du Nord",
          "Madagascar",
          "Madagaskar",
          "Madagáscar",
          "Malaisie",
          "Malasia",
          "Malawi",
          "Malaysia",
          "Maldivas",
          "Maldive",
          "Maldives",
          "Maldives (Îles)",
          "Malediven",
          "Malesia",
          "Mali",
          "Malta",
          "Malte",
          "Malásia",
          "Malávi",
          "Man, Isle of",
          "Marianas do Norte",
          "Mariannes du Nord (Îles)",
          "Maroc",
          "Marocco",
          "Marokko",
          "Marrocos",
          "Marruecos",
          "Marshall (Îles)",
          "Marshall Islands",
          "Marshallinseln",
          "Martinica",
          "Martinique",
          "Mauretanien",
          "Maurice",
          "Mauricio",
          "Mauritania",
          "Mauritanie",
          "Mauritius",
          "Mauritânia",
          "Maurícia",
          "Mayotte",
          "Messico",
          "Mexico",
          "Mexiko",
          "Mexique",
          "Micronesia",
          "Micronésia",
          "Micronésie (États fédérés de)",
          "Mikronesien",
          "Moldavie",
          "Moldova",
          "Moldávia",
          "Monaco",
          "Mongolei",
          "Mongolia",
          "Mongolie",
          "Mongólia",
          "Monserrate",
          "Montenegro",
          "Montserrat",
          "Morocco",
          "Mosambik",
          "Mozambico",
          "Mozambique",
          "Moçambique",
          "Mundo",
          "Myanmar",
          "México",
          "Mónaco",
          "Mônaco",
          "Namibia",
          "Namibie",
          "Namíbia",
          "Nauru",
          "Navassa Island",
          "Nepal",
          "Netherlands",
          "Netherlands Antilles",
          "Neukaledonien",
          "Neuseeland",
          "New Caledonia",
          "New Zealand",
          "Nicaragua",
          "Nicarágua",
          "Niederlande",
          "Niederländische Antillen",
          "Niger",
          "Nigeria",
          "Nigéria",
          "Niue",
          "Nordmazedonien",
          "Norfolk (Îles)",
          "Norfolk Island",
          "Norfolkinsel",
          "North Macedonia",
          "Northern Mariana Islands",
          "Noruega",
          "Norvegia",
          "Norvège",
          "Norway",
          "Norwegen",
          "Nouvelle Calédonie",
          "Nouvelle-Zélande",
          "Nova Caledónia",
          "Nova Zelândia",
          "Nueva Zelandia",
          "Nuova Caledonia",
          "Nuova Zelanda",
          "Níger",
          "Nördliche Marianen",
          "Olanda",
          "Oman",
          "Omán",
          "Omã",
          "Osttimor",
          "Ouganda",
          "Ouzbékistan",
          "Pacific Ocean",
          "Pakistan",
          "Pakistán",
          "Palau",
          "Palestina",
          "Palestinian Territory",
          "Palästinensische Gebiete",
          "Panama",
          "Panamá",
          "Papouasie-Nouvelle-Guinée",
          "Papua New Guinea",
          "Papua Nueva Guinea",
          "Papua Nuova Guinea",
          "Papua-Neuguinea",
          "Papua-Nova Guiné",
          "Paquistão",
          "Paracel Islands",
          "Paraguai",
          "Paraguay",
          "Pays-Bas",
          "Países Baixos",
          "Países Bajos",
          "Peru",
          "Perú",
          "Philippinen",
          "Philippines",
          "Pitcairn",
          "Pitcairn (Îles)",
          "Pitcairn Islands",
          "Poland",
          "Polen",
          "Polinesia Francese",
          "Polinésia Francesa",
          "Pologne",
          "Polonia",
          "Polynésie française",
          "Polónia",
          "Polônia",
          "Porto Rico",
          "Portogallo",
          "Portugal",
          "Principato di Monaco",
          "Puerto Rico",
          "Pérou",
          "Qatar",
          "Quirguizistão",
          "Quiribáti",
          "Quénia",
          "Quênia",
          "Regno Unito",
          "Reino Unido",
          "Reino Unido de Gran Bretaña e Irlanda del Norte",
          "Repubblica Ceca",
          "Repubblica Centrale Africana",
          "Repubblica Dominicana",
          "Repubblica del Laos",
          "Republicca Kirgiza",
          "Republik Korea",
          "Republik Moldau",
          "República Centro-Africana",
          "República Centroafricana",
          "República Checa",
          "República Democrática Popular Lao",
          "República Democrática del Congo",
          "República Dominicana",
          "República Federal Democrática de Nepal",
          "República Popular Democrática de Corea",
          "República Unida de Tanzanía",
          "República de Corea",
          "República de Macedonia del Norte",
          "República de Moldova",
          "República Árabe Siria",
          "Reunion",
          "Romania",
          "Roménia",
          "Roumanie",
          "Royaume-Uni",
          "Ruanda",
          "Rumania",
          "Rumänien",
          "Russia",
          "Russian Federation",
          "Russie",
          "Russische Föderation",
          "Rwanda",
          "Rép. Dém. du Congo",
          "République Dominicaine",
          "République centrafricaine",
          "République tchèque",
          "Réunion",
          "Réunion (La)",
          "Rússia",
          "Sahara Occidental",
          "Saint Barthelemy",
          "Saint Helena",
          "Saint Kitts and Nevis",
          "Saint Kitts y Nevis",
          "Saint Lucia",
          "Saint Martin",
          "Saint Pierre and Miquelon",
          "Saint Pierre et Miquelon",
          "Saint Vincent and the Grenadines",
          "Saint Vincent et les Grenadines",
          "Saint-Kitts et Nevis",
          "Saint-Marin (Rép. de)",
          "Sainte Hélène",
          "Sainte Lucie",
          "Salomonen",
          "Salvador",
          "Sambia",
          "Samoa",
          "Samoa Americana",
          "San Bartolomeo",
          "San Marino",
          "San Vicente y las Granadinas",
          "Sant'Elena",
          "Santa Helena",
          "Santa Lucía",
          "Santa Lúcia",
          "Santo Tomé y Príncipe",
          "Sao Tome and Principe",
          "Sara Ocidental",
          "Saudi Arabia",
          "Saudi-Arabien",
          "Schweden",
          "Schweiz",
          "Seicheles",
          "Senegal",
          "Serbia",
          "Serbien",
          "Serbien und Montenegro",
          "Serra Leoa",
          "Seychellen",
          "Seychelles",
          "Sierra Leona",
          "Sierra Leone",
          "Simbabwe",
          "Singapore",
          "Singapour",
          "Singapur",
          "Singapura",
          "Siria",
          "Slovakia (Slovak Republic)",
          "Slovaquie",
          "Slovenia",
          "Slovénie",
          "Slowakei",
          "Slowenien",
          "Solomon Islands",
          "Somalia",
          "Somalie",
          "Somália",
          "Sonderverwaltungszone Hongkong",
          "Sonderverwaltungszone Macao",
          "Soudan",
          "South Africa",
          "South Georgia and the South Sandwich Islands",
          "Southern Ocean",
          "Spagna",
          "Spain",
          "Spanien",
          "Spratly Islands",
          "Sri Lanca",
          "Sri Lanka",
          "St. Barthélemy",
          "St. Helena",
          "St. Kitts und Nevis",
          "St. Lucia",
          "St. Martin",
          "St. Pierre und Miquelon",
          "St. Vincent und die Grenadinen",
          "Stati Uniti d'America",
          "Suazilândia",
          "Sud Africa",
          "Sudan",
          "Sudáfrica",
          "Sudán",
          "Sudán del Sur",
          "Sudão",
          "Suecia",
          "Suisse",
          "Suiza",
          "Suriname",
          "Suède",
          "Suécia",
          "Suíça",
          "Svalbard & Jan Mayen Islands",
          "Svalbard e Jan Mayen",
          "Svalbard et Jan Mayen (Îles)",
          "Svalbard und Jan Mayen",
          "Svezia",
          "Svizzera",
          "Swasiland",
          "Swaziland",
          "Swazilandia",
          "Sweden",
          "Switzerland",
          "Syrian Arab Republic",
          "Syrie",
          "Syrien",
          "São Cristóvão e Neves",
          "São Marinho",
          "São Pedro e Miquelon",
          "São Tomé e Príncipe",
          "São Tomé et Príncipe (Rép.)",
          "São Tomé und Príncipe",
          "São Vicente e Granadinas",
          "Sénégal",
          "Sérvia",
          "Síria",
          "Südafrika",
          "Südgeorgien und die Südlichen Sandwichinseln",
          "Tadjikistan",
          "Tadschikistan",
          "Tailandia",
          "Tailândia",
          "Taiwan",
          "Tajikistan",
          "Tajiquistão",
          "Tansania",
          "Tanzania",
          "Tanzanie",
          "Tanzânia",
          "Tayikistán",
          "Tchad",
          "Territoire britannique de l'océan Indien",
          "Territoires français du sud",
          "Territori Francesi del sud",
          "Territorio dell'arcipelago indiano",
          "Território Britânico do Oceano Índico",
          "Territórios Austrais Franceses",
          "Thailand",
          "Thailande",
          "Timor",
          "Timor Leste",
          "Timor-Leste",
          "Togo",
          "Tokelau",
          "Tonga",
          "Trindade e Tobago",
          "Trinidad and Tobago",
          "Trinidad e Tobago",
          "Trinidad und Tobago",
          "Trinidad y Tabago",
          "Trinité et Tobago",
          "Tschad",
          "Tschechische Republik",
          "Tunesien",
          "Tunisia",
          "Tunisie",
          "Tunísia",
          "Turchia",
          "Turkey",
          "Turkmenistan",
          "Turkmenistán",
          "Turkménistan",
          "Turks and Caicos Islands",
          "Turks et Caïques (Îles)",
          "Turks- und Caicosinseln",
          "Turquemenistão",
          "Turquia",
          "Turquie",
          "Turquía",
          "Tuvalu",
          "Túnez",
          "Türkei",
          "Ucraina",
          "Ucrania",
          "Ucrânia",
          "Uganda",
          "Ukraine",
          "Ungarn",
          "Ungheria",
          "United Arab Emirates",
          "United Kingdom",
          "United States Minor Outlying Islands",
          "United States Virgin Islands",
          "United States of America",
          "União Europeia",
          "Uruguai",
          "Uruguay",
          "Usbekistan",
          "Usbequistão",
          "Uzbekistan",
          "Uzbekistán",
          "Vanuatu",
          "Vatican (Etat du)",
          "Vaticano",
          "Vatikanstadt",
          "Venezuela",
          "Vereinigte Arabische Emirate",
          "Vereinigte Staaten",
          "Vereinigtes Königreich",
          "Vierges (Îles)",
          "Vierges britanniques (Îles)",
          "Vietman",
          "Vietnam",
          "Vietname",
          "Wake Island",
          "Wallis and Futuna",
          "Wallis e Futuna",
          "Wallis et Futuna (Îles)",
          "Wallis und Futuna",
          "Weihnachtsinsel",
          "West Bank",
          "Western Sahara",
          "Westsahara",
          "Yemen",
          "Yougoslavie",
          "Zambia",
          "Zambie",
          "Zaïre",
          "Zentralafrikanische Republik",
          "Zimbabué",
          "Zimbabwe",
          "Zimbábue",
          "Zypern",
          "Zâmbia",
          "África do Sul",
          "Áustria",
          "Ägypten",
          "Äquatorialguinea",
          "Äthiopien",
          "Äußeres Ozeanien",
          "Égypte",
          "Émirats arabes unis",
          "Équateur",
          "Érythrée",
          "États-Unis",
          "Índia",
          "Îles Mineures Éloignées des États-Unis",
          "Österreich",
          "Австралия",
          "Австрия",
          "Азербайджан",
          "Албания",
          "Алжир",
          "Ангола",
          "Андорра",
          "Антигуа и Барбуда",
          "Аргентина",
          "Армения",
          "Афганистан",
          "Багамские Острова",
          "Бангладеш",
          "Барбадос",
          "Бахрейн",
          "Белиз",
          "Белоруссия",
          "Бельгия",
          "Бенин",
          "Болгария",
          "Боливия",
          "Босния и Герцеговина",
          "Ботсвана",
          "Бразилия",
          "Бруней",
          "Буркина-Фасо",
          "Бурунди",
          "Бутан",
          "Вануату",
          "Великобритания",
          "Венгрия",
          "Венесуэла",
          "Восточный Тимор",
          "Вьетнам",
          "Габон",
          "Гаити",
          "Гайана",
          "Гамбия",
          "Гана",
          "Гватемала",
          "Гвинея",
          "Гвинея-Бисау",
          "Германия",
          "Гондурас",
          "Гренада",
          "Греция",
          "Грузия",
          "Дания",
          "Демократическая Республика Конго",
          "Джибути",
          "Доминика",
          "Доминиканская Республика",
          "Египет",
          "Замбия",
          "Зимбабве",
          "Израиль",
          "Индия",
          "Индонезия",
          "Иордания",
          "Ирак",
          "Иран",
          "Ирландия",
          "Исландия",
          "Испания",
          "Италия",
          "Йемен",
          "КНДР",
          "Кабо-Верде",
          "Казахстан",
          "Камбоджа",
          "Камерун",
          "Канада",
          "Катар",
          "Кения",
          "Кипр",
          "Киргизия",
          "Кирибати",
          "Китай",
          "Колумбия",
          "Коморы",
          "Коста-Рика",
          "Кот-д’Ивуар",
          "Куба",
          "Кувейт",
          "Лаос",
          "Латвия",
          "Лесото",
          "Либерия",
          "Ливан",
          "Ливия",
          "Литва",
          "Лихтенштейн",
          "Люксембург",
          "Маврикий",
          "Мавритания",
          "Мадагаскар",
          "Малави",
          "Малайзия",
          "Мали",
          "Мальдивы",
          "Мальта",
          "Марокко",
          "Маршалловы Острова",
          "Мексика",
          "Мозамбик",
          "Молдавия",
          "Монако",
          "Монголия",
          "Мьянма",
          "Намибия",
          "Науру",
          "Непал",
          "Нигер",
          "Нигерия",
          "Нидерланды",
          "Никарагуа",
          "Новая Зеландия",
          "Норвегия",
          "ОАЭ",
          "Оман",
          "Пакистан",
          "Палау",
          "Панама",
          "Папуа",
          "Парагвай",
          "Перу",
          "Польша",
          "Португалия",
          "Республика Конго",
          "Республика Корея",
          "Россия",
          "Руанда",
          "Румыния",
          "США",
          "Сальвадор",
          "Самоа",
          "Сан-Марино",
          "Сан-Томе и Принсипи",
          "Саудовская Аравия",
          "Северная Македония",
          "Сейшельские Острова",
          "Сенегал",
          "Сент-Винсент и Гренадины",
          "Сент-Китс и Невис",
          "Сент-Люсия",
          "Сербия",
          "Сингапур",
          "Сирия",
          "Словакия",
          "Словения",
          "Соломоновы Острова",
          "Сомали",
          "Судан",
          "Суринам",
          "Сьерра-Леоне",
          "Таджикистан",
          "Таиланд",
          "Танзания",
          "Того",
          "Тонга",
          "Тринидад и Тобаго",
          "Тувалу",
          "Тунис",
          "Туркмения",
          "Турция",
          "Уганда",
          "Узбекистан",
          "Украина",
          "Уругвай",
          "Федеративные Штаты Микронезии",
          "Фиджи",
          "Филиппины",
          "Финляндия",
          "Франция",
          "Хорватия",
          "Центральноафриканская Республика",
          "Чад",
          "Черногория",
          "Чехия",
          "Чили",
          "Швейцария",
          "Швеция",
          "Шри-Ланка",
          "Эквадор",
          "Экваториальная Гвинея",
          "Эритрея",
          "Эсватини",
          "Эстония",
          "Эфиопия",
          "ЮАР",
          "Южный Судан",
          "Ямайка",
          "Япония"
         ],
         "locationmode": "country names",
         "locations": [
          "Afeganistão",
          "Afganistán",
          "Afghanistan",
          "Afrique du sud",
          "Akrotiri",
          "Alandinseln",
          "Albania",
          "Albanie",
          "Albanien",
          "Albânia",
          "Alemanha",
          "Alemania",
          "Algeria",
          "Algerien",
          "Algérie",
          "Allemagne",
          "American Samoa",
          "Amerikanisch-Ozeanien",
          "Amerikanisch-Samoa",
          "Amerikanische Jungferninseln",
          "Andorra",
          "Andorre",
          "Angola",
          "Anguila",
          "Anguilla",
          "Antarctica (the territory South of 60 deg S)",
          "Antarctique",
          "Antarktis",
          "Antartide (territori a sud del 60° parallelo)",
          "Antigua and Barbuda",
          "Antigua e Barbuda",
          "Antigua et Barbuda",
          "Antigua und Barbuda",
          "Antigua y Barbuda",
          "Antilhas Holandesas",
          "Antilhas Neerlandesas",
          "Antille Olandesi",
          "Antilles néerlandaises",
          "Antárctida",
          "Antártica",
          "Antígua e Barbuda",
          "Arabia Saudita",
          "Arabie saoudite",
          "Arctic Ocean",
          "Argelia",
          "Argentina",
          "Argentine",
          "Argentinien",
          "Argélia",
          "Armenia",
          "Armenien",
          "Arménia",
          "Arménie",
          "Armênia",
          "Aruba",
          "Arábia Saudita",
          "Aserbaidschan",
          "Ashmore and Cartier Islands",
          "Atlantic Ocean",
          "Australia",
          "Australie",
          "Australien",
          "Austria",
          "Austrália",
          "Autriche",
          "Azerbaijan",
          "Azerbaijão",
          "Azerbaiyán",
          "Azerbaïdjan",
          "Baamas",
          "Bahamas",
          "Bahrain",
          "Bahrein",
          "Bangladeche",
          "Bangladesch",
          "Bangladesh",
          "Barbados",
          "Barein",
          "Barém",
          "Belarus",
          "Belarús",
          "Belgien",
          "Belgio",
          "Belgique",
          "Belgium",
          "Belice",
          "Belize",
          "Benim",
          "Benin",
          "Bermuda",
          "Bermudas",
          "Bermudes (Les)",
          "Bhoutan",
          "Bhutan",
          "Bhután",
          "Bielorrússia",
          "Bielorussia",
          "Birmânia",
          "Biélorussie",
          "Bolivia",
          "Bolivie",
          "Bolivien",
          "Bolívia",
          "Bosnia and Herzegovina",
          "Bosnia e Herzegovina",
          "Bosnia y Herzegovina",
          "Bosnie-Herzégovine",
          "Bosnien und Herzegowina",
          "Botsuana",
          "Botswana",
          "Bouvet (Îles)",
          "Bouvet Island (Bouvetoya)",
          "Bouvetinsel",
          "Brasil",
          "Brasile",
          "Brasilien",
          "Brazil",
          "Britische Jungferninseln",
          "Britisches Territorium im Indischen Ozean",
          "British Indian Ocean Territory (Chagos Archipelago)",
          "British Virgin Islands",
          "Brunei",
          "Brunei Darussalam",
          "Brésil",
          "Bulgaria",
          "Bulgarie",
          "Bulgarien",
          "Bulgária",
          "Burkina Faso",
          "Burquina Faso",
          "Burundi",
          "Burúndi",
          "Butão",
          "Bélgica",
          "Bósnia e Herzegovina",
          "Cabo Verde",
          "Camarões",
          "Cambodge",
          "Cambodia",
          "Cambogia",
          "Camboja",
          "Camboya",
          "Cameroon",
          "Cameroun",
          "Camerún",
          "Canada",
          "Canadá",
          "Cap Vert",
          "Cape Verde",
          "Capo Verde",
          "Catar",
          "Cayman (Îles)",
          "Cayman Islands",
          "Cazaquistão",
          "Central African Republic",
          "Chad",
          "Chade",
          "Chile",
          "Chili",
          "China",
          "Chine (Rép. pop.)",
          "Chipre",
          "Christmas (Île)",
          "Christmas Island",
          "Chypre",
          "Cile",
          "Cina",
          "Cipro",
          "Città del Vaticano",
          "Clipperton Island",
          "Cocos (Keeling) Islands",
          "Cocos (Îles)",
          "Colombia",
          "Colombie",
          "Colômbia",
          "Comoras",
          "Comores",
          "Comoros",
          "Congo",
          "Congo-Brazzaville",
          "Congo-Kinshasa",
          "Cook (Îles)",
          "Cook Islands",
          "Cookinseln",
          "Coral Sea Islands",
          "Coreia do Norte",
          "Coreia do Sul",
          "Corée du Nord",
          "Corée, Sud",
          "Costa Rica",
          "Costa d'Avorio",
          "Costa do Marfim",
          "Cote d'Ivoire",
          "Croacia",
          "Croatia",
          "Croatie",
          "Croazia",
          "Croácia",
          "Cuba",
          "Cyprus",
          "Czech Republic",
          "Côte d'Ivoire",
          "Côte d’Ivoire",
          "Danemark",
          "Danimarca",
          "Demokratische Republik Kongo",
          "Demokratische Volksrepublik Korea",
          "Denmark",
          "Deutschland",
          "Dhekelia",
          "Dinamarca",
          "Djibouti",
          "Dominica",
          "Dominican Republic",
          "Dominicana",
          "Dominikanische Republik",
          "Dominique",
          "Domínica",
          "Dschibuti",
          "Dänemark",
          "Ecuador",
          "Egipto",
          "Egito",
          "Egitto",
          "Egypt",
          "El Salvador",
          "Emirados Árabes Unidos",
          "Emirati Arabi Uniti",
          "Emiratos Árabes Unidos",
          "Equador",
          "Equatorial Guinea",
          "Eritrea",
          "Eritreia",
          "Eslovaquia",
          "Eslovenia",
          "Eslováquia",
          "Eslovénia",
          "Eslovênia",
          "Espagne",
          "Espanha",
          "España",
          "Estados Unidos",
          "Estados Unidos de América",
          "Estland",
          "Estonia",
          "Estonie",
          "Estónia",
          "Estônia",
          "Ethiopia",
          "Ethiopie",
          "Etiopia",
          "Etiopía",
          "Etiópia",
          "Falkland (Île)",
          "Falkland Islands (Malvinas)",
          "Falklandinseln",
          "Faroe Islands",
          "Faroé",
          "Federación de Rusia",
          "Fidji (République des)",
          "Fidschi",
          "Fiji",
          "Filipinas",
          "Filippine",
          "Finland",
          "Finlande",
          "Finlandia",
          "Finlândia",
          "Finnland",
          "France",
          "Francia",
          "Frankreich",
          "Französisch-Guayana",
          "Französisch-Polynesien",
          "França",
          "French Guiana",
          "French Polynesia",
          "French Southern Territories",
          "Färöer",
          "Féroé (Îles)",
          "Gabon",
          "Gabun",
          "Gabão",
          "Gabón",
          "Gambia",
          "Gambie",
          "Gana",
          "Gaza Strip",
          "Georgia",
          "Georgia del sud e South Sandwich Islands",
          "Georgien",
          "Germania",
          "Germany",
          "Geórgia",
          "Geórgia do Sul e Sandwich do Sul",
          "Ghana",
          "Giamaica",
          "Giappone",
          "Gibilterra",
          "Gibraltar",
          "Gibuti",
          "Giordania",
          "Granada",
          "Grecia",
          "Greece",
          "Greenland",
          "Grenada",
          "Grenade",
          "Griechenland",
          "Groenland",
          "Groenlandia",
          "Groenlândia",
          "Gronelândia",
          "Grèce",
          "Grécia",
          "Grönland",
          "Guadalupa",
          "Guadeloupe",
          "Guam",
          "Guame",
          "Guatemala",
          "Guernsey",
          "Guiana",
          "Guinea",
          "Guinea Bissau",
          "Guinea Ecuatorial",
          "Guinea Equatoriale",
          "Guinea-Bissau",
          "Guiné",
          "Guiné Equatorial",
          "Guiné-Bissau",
          "Guinée",
          "Guinée Equatoriale",
          "Guinée-Bissau",
          "Guyana",
          "Guyana Francese",
          "Guyane",
          "Guyane française",
          "Gâmbia",
          "Géorgie",
          "Géorgie du Sud et Sandwich du Sud (Îles)",
          "Haiti",
          "Haití",
          "Haïti",
          "Heard Island and McDonald Islands",
          "Heard et McDonald (Îles)",
          "Heard- und McDonald-Inseln",
          "Holy See (Vatican City State)",
          "Honduras",
          "Hong Kong",
          "Hongrie",
          "Hungary",
          "Hungria",
          "Hungría",
          "Iceland",
          "Ilha Bouvet",
          "Ilha Norfolk",
          "Ilha Wake",
          "Ilha de Man",
          "Ilha do Natal",
          "Ilhas Caiman",
          "Ilhas Caimão",
          "Ilhas Cook",
          "Ilhas Falkland",
          "Ilhas Heard e McDonald",
          "Ilhas Marshall",
          "Ilhas Salomão",
          "Ilhas Turcas e Caicos",
          "Ilhas Virgens Americanas",
          "Ilhas Virgens Britânicas",
          "Ilhas dos Cocos",
          "Inde",
          "India",
          "Indian Ocean",
          "Indien",
          "Indonesia",
          "Indonesien",
          "Indonésia",
          "Indonésie",
          "Irak",
          "Iran",
          "Iraq",
          "Iraque",
          "Ireland",
          "Irland",
          "Irlanda",
          "Irlande",
          "Irán",
          "Irão",
          "Island",
          "Islanda",
          "Islande",
          "Islandia",
          "Islas Marshall",
          "Islas Salomón",
          "Isle of Man",
          "Islândia",
          "Isola di Cocos (Keeling)",
          "Isola di Man",
          "Isola di Pasqua",
          "Isole Cayman",
          "Isole Cook",
          "Isole Falkland (Malvinas)",
          "Isole Faroe",
          "Isole Marshall",
          "Isole Norfolk",
          "Isole Solomon",
          "Isole Vergini Britanniche",
          "Isole Vergini Statunitensi",
          "Isole di Turks and Caicos",
          "Israel",
          "Israele",
          "Israël",
          "Italia",
          "Italie",
          "Italien",
          "Italy",
          "Itália",
          "Iémen",
          "Iêmen",
          "Jamaica",
          "Jamaika",
          "Jamaïque",
          "Jan Mayen",
          "Japan",
          "Japon",
          "Japão",
          "Japón",
          "Jemen",
          "Jersey",
          "Jibuti",
          "Jordan",
          "Jordania",
          "Jordanie",
          "Jordanien",
          "Jordânia",
          "Kaimaninseln",
          "Kambodscha",
          "Kamerun",
          "Kanada",
          "Kap Verde",
          "Kasachstan",
          "Katar",
          "Kazajstán",
          "Kazakhstan",
          "Kenia",
          "Kenya",
          "Kirghizistan",
          "Kirgisistan",
          "Kirguistán",
          "Kiribati",
          "Kokosinseln",
          "Kolumbien",
          "Komoren",
          "Kongo",
          "Korea",
          "Koweit",
          "Kroatien",
          "Kuba",
          "Kuwait",
          "Kyrgyz Republic",
          "La Barbad",
          "Lao People's Democratic Republic",
          "Laos",
          "Latvia",
          "Lebanon",
          "Lesotho",
          "Lesoto",
          "Letonia",
          "Lettland",
          "Lettonie",
          "Letónia",
          "Letônia",
          "Liban",
          "Libano",
          "Libanon",
          "Liberia",
          "Libia",
          "Libyan Arab Jamahiriya",
          "Libye",
          "Libyen",
          "Libéria",
          "Liechtenstein",
          "Listenstaine",
          "Litauen",
          "Lithuania",
          "Lithuanie",
          "Lituania",
          "Lituânia",
          "Lussemburgo",
          "Luxembourg",
          "Luxemburg",
          "Luxemburgo",
          "Líbano",
          "Líbia",
          "Macao",
          "Macau",
          "Macedonia del Nord",
          "Macedónia do Norte",
          "Macedônia do Norte",
          "Macédoine du Nord",
          "Madagascar",
          "Madagaskar",
          "Madagáscar",
          "Malaisie",
          "Malasia",
          "Malawi",
          "Malaysia",
          "Maldivas",
          "Maldive",
          "Maldives",
          "Maldives (Îles)",
          "Malediven",
          "Malesia",
          "Mali",
          "Malta",
          "Malte",
          "Malásia",
          "Malávi",
          "Man, Isle of",
          "Marianas do Norte",
          "Mariannes du Nord (Îles)",
          "Maroc",
          "Marocco",
          "Marokko",
          "Marrocos",
          "Marruecos",
          "Marshall (Îles)",
          "Marshall Islands",
          "Marshallinseln",
          "Martinica",
          "Martinique",
          "Mauretanien",
          "Maurice",
          "Mauricio",
          "Mauritania",
          "Mauritanie",
          "Mauritius",
          "Mauritânia",
          "Maurícia",
          "Mayotte",
          "Messico",
          "Mexico",
          "Mexiko",
          "Mexique",
          "Micronesia",
          "Micronésia",
          "Micronésie (États fédérés de)",
          "Mikronesien",
          "Moldavie",
          "Moldova",
          "Moldávia",
          "Monaco",
          "Mongolei",
          "Mongolia",
          "Mongolie",
          "Mongólia",
          "Monserrate",
          "Montenegro",
          "Montserrat",
          "Morocco",
          "Mosambik",
          "Mozambico",
          "Mozambique",
          "Moçambique",
          "Mundo",
          "Myanmar",
          "México",
          "Mónaco",
          "Mônaco",
          "Namibia",
          "Namibie",
          "Namíbia",
          "Nauru",
          "Navassa Island",
          "Nepal",
          "Netherlands",
          "Netherlands Antilles",
          "Neukaledonien",
          "Neuseeland",
          "New Caledonia",
          "New Zealand",
          "Nicaragua",
          "Nicarágua",
          "Niederlande",
          "Niederländische Antillen",
          "Niger",
          "Nigeria",
          "Nigéria",
          "Niue",
          "Nordmazedonien",
          "Norfolk (Îles)",
          "Norfolk Island",
          "Norfolkinsel",
          "North Macedonia",
          "Northern Mariana Islands",
          "Noruega",
          "Norvegia",
          "Norvège",
          "Norway",
          "Norwegen",
          "Nouvelle Calédonie",
          "Nouvelle-Zélande",
          "Nova Caledónia",
          "Nova Zelândia",
          "Nueva Zelandia",
          "Nuova Caledonia",
          "Nuova Zelanda",
          "Níger",
          "Nördliche Marianen",
          "Olanda",
          "Oman",
          "Omán",
          "Omã",
          "Osttimor",
          "Ouganda",
          "Ouzbékistan",
          "Pacific Ocean",
          "Pakistan",
          "Pakistán",
          "Palau",
          "Palestina",
          "Palestinian Territory",
          "Palästinensische Gebiete",
          "Panama",
          "Panamá",
          "Papouasie-Nouvelle-Guinée",
          "Papua New Guinea",
          "Papua Nueva Guinea",
          "Papua Nuova Guinea",
          "Papua-Neuguinea",
          "Papua-Nova Guiné",
          "Paquistão",
          "Paracel Islands",
          "Paraguai",
          "Paraguay",
          "Pays-Bas",
          "Países Baixos",
          "Países Bajos",
          "Peru",
          "Perú",
          "Philippinen",
          "Philippines",
          "Pitcairn",
          "Pitcairn (Îles)",
          "Pitcairn Islands",
          "Poland",
          "Polen",
          "Polinesia Francese",
          "Polinésia Francesa",
          "Pologne",
          "Polonia",
          "Polynésie française",
          "Polónia",
          "Polônia",
          "Porto Rico",
          "Portogallo",
          "Portugal",
          "Principato di Monaco",
          "Puerto Rico",
          "Pérou",
          "Qatar",
          "Quirguizistão",
          "Quiribáti",
          "Quénia",
          "Quênia",
          "Regno Unito",
          "Reino Unido",
          "Reino Unido de Gran Bretaña e Irlanda del Norte",
          "Repubblica Ceca",
          "Repubblica Centrale Africana",
          "Repubblica Dominicana",
          "Repubblica del Laos",
          "Republicca Kirgiza",
          "Republik Korea",
          "Republik Moldau",
          "República Centro-Africana",
          "República Centroafricana",
          "República Checa",
          "República Democrática Popular Lao",
          "República Democrática del Congo",
          "República Dominicana",
          "República Federal Democrática de Nepal",
          "República Popular Democrática de Corea",
          "República Unida de Tanzanía",
          "República de Corea",
          "República de Macedonia del Norte",
          "República de Moldova",
          "República Árabe Siria",
          "Reunion",
          "Romania",
          "Roménia",
          "Roumanie",
          "Royaume-Uni",
          "Ruanda",
          "Rumania",
          "Rumänien",
          "Russia",
          "Russian Federation",
          "Russie",
          "Russische Föderation",
          "Rwanda",
          "Rép. Dém. du Congo",
          "République Dominicaine",
          "République centrafricaine",
          "République tchèque",
          "Réunion",
          "Réunion (La)",
          "Rússia",
          "Sahara Occidental",
          "Saint Barthelemy",
          "Saint Helena",
          "Saint Kitts and Nevis",
          "Saint Kitts y Nevis",
          "Saint Lucia",
          "Saint Martin",
          "Saint Pierre and Miquelon",
          "Saint Pierre et Miquelon",
          "Saint Vincent and the Grenadines",
          "Saint Vincent et les Grenadines",
          "Saint-Kitts et Nevis",
          "Saint-Marin (Rép. de)",
          "Sainte Hélène",
          "Sainte Lucie",
          "Salomonen",
          "Salvador",
          "Sambia",
          "Samoa",
          "Samoa Americana",
          "San Bartolomeo",
          "San Marino",
          "San Vicente y las Granadinas",
          "Sant'Elena",
          "Santa Helena",
          "Santa Lucía",
          "Santa Lúcia",
          "Santo Tomé y Príncipe",
          "Sao Tome and Principe",
          "Sara Ocidental",
          "Saudi Arabia",
          "Saudi-Arabien",
          "Schweden",
          "Schweiz",
          "Seicheles",
          "Senegal",
          "Serbia",
          "Serbien",
          "Serbien und Montenegro",
          "Serra Leoa",
          "Seychellen",
          "Seychelles",
          "Sierra Leona",
          "Sierra Leone",
          "Simbabwe",
          "Singapore",
          "Singapour",
          "Singapur",
          "Singapura",
          "Siria",
          "Slovakia (Slovak Republic)",
          "Slovaquie",
          "Slovenia",
          "Slovénie",
          "Slowakei",
          "Slowenien",
          "Solomon Islands",
          "Somalia",
          "Somalie",
          "Somália",
          "Sonderverwaltungszone Hongkong",
          "Sonderverwaltungszone Macao",
          "Soudan",
          "South Africa",
          "South Georgia and the South Sandwich Islands",
          "Southern Ocean",
          "Spagna",
          "Spain",
          "Spanien",
          "Spratly Islands",
          "Sri Lanca",
          "Sri Lanka",
          "St. Barthélemy",
          "St. Helena",
          "St. Kitts und Nevis",
          "St. Lucia",
          "St. Martin",
          "St. Pierre und Miquelon",
          "St. Vincent und die Grenadinen",
          "Stati Uniti d'America",
          "Suazilândia",
          "Sud Africa",
          "Sudan",
          "Sudáfrica",
          "Sudán",
          "Sudán del Sur",
          "Sudão",
          "Suecia",
          "Suisse",
          "Suiza",
          "Suriname",
          "Suède",
          "Suécia",
          "Suíça",
          "Svalbard & Jan Mayen Islands",
          "Svalbard e Jan Mayen",
          "Svalbard et Jan Mayen (Îles)",
          "Svalbard und Jan Mayen",
          "Svezia",
          "Svizzera",
          "Swasiland",
          "Swaziland",
          "Swazilandia",
          "Sweden",
          "Switzerland",
          "Syrian Arab Republic",
          "Syrie",
          "Syrien",
          "São Cristóvão e Neves",
          "São Marinho",
          "São Pedro e Miquelon",
          "São Tomé e Príncipe",
          "São Tomé et Príncipe (Rép.)",
          "São Tomé und Príncipe",
          "São Vicente e Granadinas",
          "Sénégal",
          "Sérvia",
          "Síria",
          "Südafrika",
          "Südgeorgien und die Südlichen Sandwichinseln",
          "Tadjikistan",
          "Tadschikistan",
          "Tailandia",
          "Tailândia",
          "Taiwan",
          "Tajikistan",
          "Tajiquistão",
          "Tansania",
          "Tanzania",
          "Tanzanie",
          "Tanzânia",
          "Tayikistán",
          "Tchad",
          "Territoire britannique de l'océan Indien",
          "Territoires français du sud",
          "Territori Francesi del sud",
          "Territorio dell'arcipelago indiano",
          "Território Britânico do Oceano Índico",
          "Territórios Austrais Franceses",
          "Thailand",
          "Thailande",
          "Timor",
          "Timor Leste",
          "Timor-Leste",
          "Togo",
          "Tokelau",
          "Tonga",
          "Trindade e Tobago",
          "Trinidad and Tobago",
          "Trinidad e Tobago",
          "Trinidad und Tobago",
          "Trinidad y Tabago",
          "Trinité et Tobago",
          "Tschad",
          "Tschechische Republik",
          "Tunesien",
          "Tunisia",
          "Tunisie",
          "Tunísia",
          "Turchia",
          "Turkey",
          "Turkmenistan",
          "Turkmenistán",
          "Turkménistan",
          "Turks and Caicos Islands",
          "Turks et Caïques (Îles)",
          "Turks- und Caicosinseln",
          "Turquemenistão",
          "Turquia",
          "Turquie",
          "Turquía",
          "Tuvalu",
          "Túnez",
          "Türkei",
          "Ucraina",
          "Ucrania",
          "Ucrânia",
          "Uganda",
          "Ukraine",
          "Ungarn",
          "Ungheria",
          "United Arab Emirates",
          "United Kingdom",
          "United States Minor Outlying Islands",
          "United States Virgin Islands",
          "United States of America",
          "União Europeia",
          "Uruguai",
          "Uruguay",
          "Usbekistan",
          "Usbequistão",
          "Uzbekistan",
          "Uzbekistán",
          "Vanuatu",
          "Vatican (Etat du)",
          "Vaticano",
          "Vatikanstadt",
          "Venezuela",
          "Vereinigte Arabische Emirate",
          "Vereinigte Staaten",
          "Vereinigtes Königreich",
          "Vierges (Îles)",
          "Vierges britanniques (Îles)",
          "Vietman",
          "Vietnam",
          "Vietname",
          "Wake Island",
          "Wallis and Futuna",
          "Wallis e Futuna",
          "Wallis et Futuna (Îles)",
          "Wallis und Futuna",
          "Weihnachtsinsel",
          "West Bank",
          "Western Sahara",
          "Westsahara",
          "Yemen",
          "Yougoslavie",
          "Zambia",
          "Zambie",
          "Zaïre",
          "Zentralafrikanische Republik",
          "Zimbabué",
          "Zimbabwe",
          "Zimbábue",
          "Zypern",
          "Zâmbia",
          "África do Sul",
          "Áustria",
          "Ägypten",
          "Äquatorialguinea",
          "Äthiopien",
          "Äußeres Ozeanien",
          "Égypte",
          "Émirats arabes unis",
          "Équateur",
          "Érythrée",
          "États-Unis",
          "Índia",
          "Îles Mineures Éloignées des États-Unis",
          "Österreich",
          "Австралия",
          "Австрия",
          "Азербайджан",
          "Албания",
          "Алжир",
          "Ангола",
          "Андорра",
          "Антигуа и Барбуда",
          "Аргентина",
          "Армения",
          "Афганистан",
          "Багамские Острова",
          "Бангладеш",
          "Барбадос",
          "Бахрейн",
          "Белиз",
          "Белоруссия",
          "Бельгия",
          "Бенин",
          "Болгария",
          "Боливия",
          "Босния и Герцеговина",
          "Ботсвана",
          "Бразилия",
          "Бруней",
          "Буркина-Фасо",
          "Бурунди",
          "Бутан",
          "Вануату",
          "Великобритания",
          "Венгрия",
          "Венесуэла",
          "Восточный Тимор",
          "Вьетнам",
          "Габон",
          "Гаити",
          "Гайана",
          "Гамбия",
          "Гана",
          "Гватемала",
          "Гвинея",
          "Гвинея-Бисау",
          "Германия",
          "Гондурас",
          "Гренада",
          "Греция",
          "Грузия",
          "Дания",
          "Демократическая Республика Конго",
          "Джибути",
          "Доминика",
          "Доминиканская Республика",
          "Египет",
          "Замбия",
          "Зимбабве",
          "Израиль",
          "Индия",
          "Индонезия",
          "Иордания",
          "Ирак",
          "Иран",
          "Ирландия",
          "Исландия",
          "Испания",
          "Италия",
          "Йемен",
          "КНДР",
          "Кабо-Верде",
          "Казахстан",
          "Камбоджа",
          "Камерун",
          "Канада",
          "Катар",
          "Кения",
          "Кипр",
          "Киргизия",
          "Кирибати",
          "Китай",
          "Колумбия",
          "Коморы",
          "Коста-Рика",
          "Кот-д’Ивуар",
          "Куба",
          "Кувейт",
          "Лаос",
          "Латвия",
          "Лесото",
          "Либерия",
          "Ливан",
          "Ливия",
          "Литва",
          "Лихтенштейн",
          "Люксембург",
          "Маврикий",
          "Мавритания",
          "Мадагаскар",
          "Малави",
          "Малайзия",
          "Мали",
          "Мальдивы",
          "Мальта",
          "Марокко",
          "Маршалловы Острова",
          "Мексика",
          "Мозамбик",
          "Молдавия",
          "Монако",
          "Монголия",
          "Мьянма",
          "Намибия",
          "Науру",
          "Непал",
          "Нигер",
          "Нигерия",
          "Нидерланды",
          "Никарагуа",
          "Новая Зеландия",
          "Норвегия",
          "ОАЭ",
          "Оман",
          "Пакистан",
          "Палау",
          "Панама",
          "Папуа",
          "Парагвай",
          "Перу",
          "Польша",
          "Португалия",
          "Республика Конго",
          "Республика Корея",
          "Россия",
          "Руанда",
          "Румыния",
          "США",
          "Сальвадор",
          "Самоа",
          "Сан-Марино",
          "Сан-Томе и Принсипи",
          "Саудовская Аравия",
          "Северная Македония",
          "Сейшельские Острова",
          "Сенегал",
          "Сент-Винсент и Гренадины",
          "Сент-Китс и Невис",
          "Сент-Люсия",
          "Сербия",
          "Сингапур",
          "Сирия",
          "Словакия",
          "Словения",
          "Соломоновы Острова",
          "Сомали",
          "Судан",
          "Суринам",
          "Сьерра-Леоне",
          "Таджикистан",
          "Таиланд",
          "Танзания",
          "Того",
          "Тонга",
          "Тринидад и Тобаго",
          "Тувалу",
          "Тунис",
          "Туркмения",
          "Турция",
          "Уганда",
          "Узбекистан",
          "Украина",
          "Уругвай",
          "Федеративные Штаты Микронезии",
          "Фиджи",
          "Филиппины",
          "Финляндия",
          "Франция",
          "Хорватия",
          "Центральноафриканская Республика",
          "Чад",
          "Черногория",
          "Чехия",
          "Чили",
          "Швейцария",
          "Швеция",
          "Шри-Ланка",
          "Эквадор",
          "Экваториальная Гвинея",
          "Эритрея",
          "Эсватини",
          "Эстония",
          "Эфиопия",
          "ЮАР",
          "Южный Судан",
          "Ямайка",
          "Япония"
         ],
         "name": "",
         "type": "choropleth",
         "z": [
          106224,
          78907,
          194913,
          63887,
          104507,
          58729,
          169234,
          75518,
          39119,
          89890,
          118797,
          81751,
          125945,
          73034,
          47016,
          57185,
          103050,
          63966,
          46265,
          39943,
          389640,
          61825,
          455908,
          120483,
          234720,
          63393,
          43946,
          45315,
          62254,
          46469,
          67120,
          48038,
          60600,
          51000,
          55685,
          33931,
          65943,
          79991,
          60512,
          56851,
          97749,
          143527,
          52106,
          50940,
          61566,
          294322,
          43405,
          64710,
          85848,
          183679,
          58952,
          57101,
          71240,
          44750,
          306933,
          95149,
          57989,
          94663,
          40437,
          205352,
          51191,
          50055,
          206724,
          95990,
          62907,
          121924,
          141830,
          80875,
          56227,
          47768,
          369324,
          220129,
          56367,
          39588,
          62774,
          297157,
          366029,
          59580,
          55909,
          119420,
          70190,
          51531,
          35343,
          62274,
          68054,
          65512,
          329855,
          128609,
          275736,
          154952,
          101526,
          66320,
          57554,
          171656,
          82303,
          97861,
          55922,
          94399,
          56245,
          185935,
          43272,
          62046,
          127424,
          44889,
          56494,
          80574,
          41150,
          57211,
          143672,
          203943,
          51935,
          106388,
          62194,
          182250,
          76982,
          45555,
          78401,
          45333,
          60463,
          49034,
          65117,
          144423,
          265329,
          44785,
          144013,
          41355,
          50874,
          99347,
          288096,
          99952,
          343516,
          43273,
          118053,
          205799,
          97877,
          180575,
          145370,
          45440,
          69911,
          58575,
          113568,
          59823,
          110896,
          76188,
          65557,
          136716,
          125814,
          67893,
          37876,
          52534,
          105529,
          53368,
          32974,
          97628,
          50832,
          183966,
          97637,
          314413,
          59505,
          313554,
          54078,
          188932,
          49363,
          77801,
          62535,
          45674,
          45234,
          65739,
          46726,
          96429,
          36748,
          61798,
          189751,
          63669,
          100509,
          44630,
          129241,
          111986,
          219496,
          130376,
          102935,
          54819,
          65053,
          40981,
          94408,
          90675,
          97546,
          59381,
          40725,
          446241,
          46161,
          134741,
          51128,
          66023,
          41788,
          53053,
          41694,
          195965,
          447590,
          50196,
          56600,
          114091,
          74108,
          41596,
          64380,
          49227,
          36024,
          71266,
          64786,
          177481,
          213548,
          150741,
          111979,
          43520,
          58908,
          64001,
          64604,
          193939,
          54908,
          62786,
          183883,
          126280,
          89033,
          44917,
          54540,
          258964,
          60548,
          77247,
          140968,
          158249,
          61123,
          240548,
          106503,
          63903,
          49363,
          84241,
          58288,
          40983,
          62238,
          110517,
          91669,
          121019,
          95333,
          77471,
          190355,
          67148,
          42232,
          60609,
          56560,
          47534,
          49759,
          58695,
          100561,
          73354,
          51375,
          48222,
          58061,
          106096,
          83863,
          39552,
          32633,
          278065,
          200135,
          55881,
          43433,
          47855,
          111331,
          127705,
          42961,
          81247,
          118073,
          55530,
          46612,
          36522,
          112783,
          62922,
          43386,
          39903,
          72423,
          66857,
          187159,
          67621,
          112914,
          65077,
          269069,
          57609,
          117012,
          43558,
          159204,
          58168,
          46721,
          54261,
          61106,
          111722,
          100228,
          274607,
          55068,
          50495,
          59278,
          294948,
          39844,
          72147,
          195870,
          125845,
          55341,
          37033,
          150126,
          49733,
          32717,
          75784,
          42059,
          71591,
          36434,
          56980,
          109477,
          60367,
          63860,
          206219,
          304261,
          49351,
          358924,
          297158,
          90644,
          245048,
          67943,
          51750,
          55382,
          147824,
          126552,
          105171,
          84879,
          65838,
          63745,
          57629,
          258228,
          79595,
          51730,
          49197,
          89769,
          63880,
          56757,
          235113,
          74759,
          61379,
          121198,
          62660,
          39635,
          49259,
          461927,
          251067,
          57303,
          51775,
          99229,
          57899,
          66952,
          106688,
          101435,
          60336,
          62134,
          89363,
          44781,
          54560,
          137125,
          108243,
          106599,
          137513,
          106871,
          87005,
          109172,
          111775,
          116619,
          49399,
          221385,
          67783,
          48368,
          162407,
          47651,
          73428,
          38600,
          125278,
          286913,
          172510,
          94442,
          44033,
          54083,
          243333,
          60341,
          82487,
          58930,
          50274,
          57809,
          69037,
          42916,
          59529,
          91019,
          102040,
          109050,
          60056,
          33297,
          51424,
          54013,
          31464,
          37905,
          55616,
          53029,
          64393,
          54361,
          30548,
          52074,
          55495,
          318081,
          72474,
          42539,
          144804,
          46704,
          52742,
          55831,
          98663,
          63004,
          63897,
          237487,
          51070,
          65964,
          104285,
          111115,
          55817,
          98869,
          76009,
          81399,
          258330,
          82184,
          49660,
          111843,
          59231,
          63494,
          114914,
          51362,
          55928,
          52189,
          71988,
          65835,
          50607,
          77012,
          59648,
          131662,
          71200,
          204176,
          64822,
          49108,
          59076,
          307871,
          63297,
          51042,
          56377,
          40260,
          181973,
          68655,
          66395,
          45569,
          326857,
          65540,
          56945,
          49749,
          215913,
          117891,
          70056,
          298884,
          103670,
          42494,
          62851,
          41988,
          33873,
          51800,
          85222,
          53795,
          45521,
          218796,
          61521,
          123865,
          71340,
          36164,
          181287,
          350079,
          43267,
          55251,
          58216,
          76623,
          127609,
          138240,
          44170,
          126222,
          67756,
          150261,
          207527,
          100122,
          112221,
          161643,
          59105,
          68477,
          44584,
          55898,
          315565,
          68787,
          51633,
          55234,
          55841,
          301429,
          101721,
          181559,
          68663,
          48695,
          53545,
          33493,
          57733,
          359840,
          335834,
          53653,
          78108,
          104423,
          58358,
          127712,
          55154,
          42034,
          65174,
          58598,
          85245,
          61480,
          63712,
          42914,
          41670,
          59822,
          185187,
          41964,
          43383,
          63094,
          199618,
          42433,
          186653,
          92952,
          137518,
          297433,
          41101,
          34754,
          91735,
          47138,
          195907,
          100348,
          68984,
          48808,
          47805,
          103089,
          122405,
          141991,
          31137,
          154218,
          42614,
          122119,
          107782,
          322297,
          237138,
          56351,
          64264,
          66432,
          181641,
          126904,
          60867,
          279047,
          198495,
          104117,
          61164,
          204328,
          70379,
          141147,
          429794,
          114379,
          324323,
          55719,
          38158,
          54667,
          44068,
          38507,
          77018,
          327427,
          120606,
          62856,
          51176,
          341241,
          270151,
          115769,
          324043,
          47428,
          62963,
          44049,
          54481,
          52763,
          107649,
          169880,
          76812,
          51340,
          40834,
          72102,
          60127,
          68466,
          138789,
          71834,
          66034,
          51118,
          67723,
          94807,
          48654,
          58862,
          221971,
          66177,
          77334,
          40371,
          51359,
          100014,
          72019,
          232729,
          98004,
          392299,
          52504,
          69487,
          54749,
          190160,
          161325,
          55522,
          49878,
          55542,
          45704,
          39202,
          97669,
          97873,
          66486,
          100045,
          281673,
          68848,
          79798,
          70074,
          296418,
          74847,
          64104,
          113351,
          165510,
          42530,
          95968,
          53136,
          48457,
          49616,
          97716,
          44011,
          136509,
          54799,
          47022,
          53610,
          183959,
          57367,
          339555,
          51033,
          104232,
          45671,
          258324,
          81785,
          119334,
          57119,
          53908,
          46837,
          67797,
          69308,
          60573,
          65585,
          46897,
          70506,
          66300,
          54964,
          46018,
          107689,
          76163,
          172015,
          73851,
          63995,
          167212,
          99266,
          95475,
          59100,
          50561,
          54413,
          76253,
          83585,
          131352,
          118831,
          130353,
          71214,
          68446,
          161495,
          66701,
          50815,
          60217,
          54910,
          61021,
          32004,
          285325,
          68083,
          59983,
          53995,
          54163,
          41304,
          39218,
          84585,
          47184,
          47247,
          40312,
          123893,
          62654,
          149054,
          101178,
          100885,
          67052,
          109236,
          61783,
          100168,
          80214,
          83034,
          71632,
          46734,
          82268,
          64523,
          464685,
          110212,
          79687,
          236510,
          72114,
          42786,
          114512,
          81031,
          103302,
          74108,
          97691,
          114294,
          61583,
          50361,
          32962,
          59554,
          121406,
          283600,
          177691,
          61836,
          47966,
          97020,
          42250,
          230830,
          71957,
          209928,
          55670,
          89202,
          57492,
          130360,
          89037,
          42028,
          64870,
          80616,
          114564,
          67059,
          76779,
          64346,
          54449,
          223870,
          44756,
          96315,
          50857,
          60548,
          68586,
          63200,
          70762,
          61016,
          59127,
          49198,
          46391,
          60297,
          55587,
          343491,
          61965,
          61015,
          64284,
          52661,
          48428,
          45789,
          61306,
          58398,
          117958,
          58203,
          158765,
          46114,
          72618,
          73659,
          78875,
          83259,
          82830,
          71512,
          379771,
          43567,
          89999,
          92993,
          94544,
          107653,
          60902,
          46135,
          61754,
          63274,
          53424,
          163048,
          109039,
          51602,
          47166,
          53296,
          62231,
          43478,
          105486,
          96159,
          80742,
          114593,
          37179,
          48347,
          106001,
          52708,
          123670,
          86754,
          50980,
          55892,
          55427,
          59376,
          127743,
          102757,
          321785,
          112614,
          109933,
          35357,
          97557,
          50813,
          113356,
          92587,
          72940,
          48871,
          39432,
          66228,
          55324,
          116148,
          102878,
          102246,
          53015,
          59073,
          64788,
          175619,
          389225,
          339964,
          366580,
          132341,
          56545,
          35150,
          77304,
          66087,
          72544,
          55402,
          27711,
          62389,
          137083,
          75584,
          136213,
          76314,
          43763,
          154212,
          82409,
          52510,
          61279,
          66985,
          54635,
          116791,
          153744,
          43502,
          73819,
          364311,
          57895,
          39602,
          62833,
          54491,
          137169,
          344946,
          146832,
          46187,
          44690,
          35281,
          69542,
          108395,
          69820,
          42379,
          124650,
          105808,
          319465,
          40958,
          125616,
          96248,
          76150,
          406246,
          59122,
          112937,
          35738,
          401603,
          31738,
          57803,
          42658,
          60881,
          56501,
          63423,
          289138,
          47207,
          55012,
          98108,
          98675,
          39356,
          58946,
          83184,
          50579,
          93628,
          46661,
          248348,
          77239,
          164710,
          77212,
          51627,
          53851,
          33822,
          234762,
          48986,
          55280,
          96700,
          78807,
          106449,
          72345,
          50884,
          63305,
          67450,
          62555,
          76364,
          50238,
          65724,
          91738,
          98505,
          50470,
          61561,
          77839,
          68367,
          75555,
          94196,
          53347,
          44087,
          83101,
          69723,
          91464,
          71199,
          86635,
          61234,
          97518,
          56765,
          75147,
          46988,
          75287,
          89591,
          71920,
          76986,
          57006,
          74467,
          77138,
          72773,
          82087,
          78001,
          84027,
          57022,
          86483,
          64118,
          62378,
          59758,
          66055,
          52417,
          68429,
          72122,
          51140,
          89480,
          72084,
          65366,
          70949,
          84780,
          66690,
          74298,
          79929,
          72689,
          85622,
          72644,
          47517,
          70076,
          82654,
          55035,
          62094,
          90659,
          56630,
          71141,
          61007,
          77172,
          91049,
          53722,
          67646,
          76844,
          81645,
          64349,
          49212,
          71055,
          93101,
          64403,
          71622,
          70170,
          61466,
          65783,
          79955,
          61852,
          63244,
          79265,
          44618,
          92811,
          87224,
          56176,
          50204,
          58458,
          69880,
          62634,
          56721,
          60713,
          66793,
          66730,
          75184,
          65560,
          49848,
          67879,
          89632,
          55964,
          62486,
          89480,
          84029,
          51861,
          62200,
          63484,
          82978,
          77412,
          61672,
          58947,
          88051,
          59371,
          86059,
          80799,
          92711,
          75449,
          66865,
          78243,
          70125,
          64623,
          79264,
          83206,
          88755,
          76430,
          84244,
          72843,
          91284,
          60753,
          61257,
          66762,
          71285,
          66363,
          69387,
          49102,
          51140,
          65458,
          53623,
          58079,
          68519,
          78231,
          67499,
          65610,
          42679,
          58700,
          69063,
          85186,
          24697,
          48176,
          76366,
          88510,
          58470,
          70117,
          57961,
          46577,
          79131,
          46896,
          70135,
          81367,
          88113,
          70670,
          80068,
          78117,
          59297,
          37641,
          80393,
          83351,
          74224,
          53390,
          53206,
          36369,
          86677,
          67775,
          73925,
          40121,
          67108,
          90450,
          74920,
          64828,
          63359,
          73270,
          55397,
          76970,
          73771,
          94801,
          76463,
          55892,
          62980,
          56995,
          70036,
          56886,
          74474,
          47154,
          76527,
          72657,
          64848,
          75214,
          57488,
          79661,
          90130
         ]
        }
       ],
       "layout": {
        "coloraxis": {
         "colorbar": {
          "title": {
           "text": "Total_Venda"
          }
         },
         "colorscale": [
          [
           0,
           "#0d0887"
          ],
          [
           0.1111111111111111,
           "#46039f"
          ],
          [
           0.2222222222222222,
           "#7201a8"
          ],
          [
           0.3333333333333333,
           "#9c179e"
          ],
          [
           0.4444444444444444,
           "#bd3786"
          ],
          [
           0.5555555555555556,
           "#d8576b"
          ],
          [
           0.6666666666666666,
           "#ed7953"
          ],
          [
           0.7777777777777778,
           "#fb9f3a"
          ],
          [
           0.8888888888888888,
           "#fdca26"
          ],
          [
           1,
           "#f0f921"
          ]
         ]
        },
        "geo": {
         "center": {},
         "domain": {
          "x": [
           0,
           1
          ],
          "y": [
           0,
           1
          ]
         }
        },
        "legend": {
         "tracegroupgap": 0
        },
        "template": {
         "data": {
          "bar": [
           {
            "error_x": {
             "color": "#2a3f5f"
            },
            "error_y": {
             "color": "#2a3f5f"
            },
            "marker": {
             "line": {
              "color": "#E5ECF6",
              "width": 0.5
             },
             "pattern": {
              "fillmode": "overlay",
              "size": 10,
              "solidity": 0.2
             }
            },
            "type": "bar"
           }
          ],
          "barpolar": [
           {
            "marker": {
             "line": {
              "color": "#E5ECF6",
              "width": 0.5
             },
             "pattern": {
              "fillmode": "overlay",
              "size": 10,
              "solidity": 0.2
             }
            },
            "type": "barpolar"
           }
          ],
          "carpet": [
           {
            "aaxis": {
             "endlinecolor": "#2a3f5f",
             "gridcolor": "white",
             "linecolor": "white",
             "minorgridcolor": "white",
             "startlinecolor": "#2a3f5f"
            },
            "baxis": {
             "endlinecolor": "#2a3f5f",
             "gridcolor": "white",
             "linecolor": "white",
             "minorgridcolor": "white",
             "startlinecolor": "#2a3f5f"
            },
            "type": "carpet"
           }
          ],
          "choropleth": [
           {
            "colorbar": {
             "outlinewidth": 0,
             "ticks": ""
            },
            "type": "choropleth"
           }
          ],
          "contour": [
           {
            "colorbar": {
             "outlinewidth": 0,
             "ticks": ""
            },
            "colorscale": [
             [
              0,
              "#0d0887"
             ],
             [
              0.1111111111111111,
              "#46039f"
             ],
             [
              0.2222222222222222,
              "#7201a8"
             ],
             [
              0.3333333333333333,
              "#9c179e"
             ],
             [
              0.4444444444444444,
              "#bd3786"
             ],
             [
              0.5555555555555556,
              "#d8576b"
             ],
             [
              0.6666666666666666,
              "#ed7953"
             ],
             [
              0.7777777777777778,
              "#fb9f3a"
             ],
             [
              0.8888888888888888,
              "#fdca26"
             ],
             [
              1,
              "#f0f921"
             ]
            ],
            "type": "contour"
           }
          ],
          "contourcarpet": [
           {
            "colorbar": {
             "outlinewidth": 0,
             "ticks": ""
            },
            "type": "contourcarpet"
           }
          ],
          "heatmap": [
           {
            "colorbar": {
             "outlinewidth": 0,
             "ticks": ""
            },
            "colorscale": [
             [
              0,
              "#0d0887"
             ],
             [
              0.1111111111111111,
              "#46039f"
             ],
             [
              0.2222222222222222,
              "#7201a8"
             ],
             [
              0.3333333333333333,
              "#9c179e"
             ],
             [
              0.4444444444444444,
              "#bd3786"
             ],
             [
              0.5555555555555556,
              "#d8576b"
             ],
             [
              0.6666666666666666,
              "#ed7953"
             ],
             [
              0.7777777777777778,
              "#fb9f3a"
             ],
             [
              0.8888888888888888,
              "#fdca26"
             ],
             [
              1,
              "#f0f921"
             ]
            ],
            "type": "heatmap"
           }
          ],
          "heatmapgl": [
           {
            "colorbar": {
             "outlinewidth": 0,
             "ticks": ""
            },
            "colorscale": [
             [
              0,
              "#0d0887"
             ],
             [
              0.1111111111111111,
              "#46039f"
             ],
             [
              0.2222222222222222,
              "#7201a8"
             ],
             [
              0.3333333333333333,
              "#9c179e"
             ],
             [
              0.4444444444444444,
              "#bd3786"
             ],
             [
              0.5555555555555556,
              "#d8576b"
             ],
             [
              0.6666666666666666,
              "#ed7953"
             ],
             [
              0.7777777777777778,
              "#fb9f3a"
             ],
             [
              0.8888888888888888,
              "#fdca26"
             ],
             [
              1,
              "#f0f921"
             ]
            ],
            "type": "heatmapgl"
           }
          ],
          "histogram": [
           {
            "marker": {
             "pattern": {
              "fillmode": "overlay",
              "size": 10,
              "solidity": 0.2
             }
            },
            "type": "histogram"
           }
          ],
          "histogram2d": [
           {
            "colorbar": {
             "outlinewidth": 0,
             "ticks": ""
            },
            "colorscale": [
             [
              0,
              "#0d0887"
             ],
             [
              0.1111111111111111,
              "#46039f"
             ],
             [
              0.2222222222222222,
              "#7201a8"
             ],
             [
              0.3333333333333333,
              "#9c179e"
             ],
             [
              0.4444444444444444,
              "#bd3786"
             ],
             [
              0.5555555555555556,
              "#d8576b"
             ],
             [
              0.6666666666666666,
              "#ed7953"
             ],
             [
              0.7777777777777778,
              "#fb9f3a"
             ],
             [
              0.8888888888888888,
              "#fdca26"
             ],
             [
              1,
              "#f0f921"
             ]
            ],
            "type": "histogram2d"
           }
          ],
          "histogram2dcontour": [
           {
            "colorbar": {
             "outlinewidth": 0,
             "ticks": ""
            },
            "colorscale": [
             [
              0,
              "#0d0887"
             ],
             [
              0.1111111111111111,
              "#46039f"
             ],
             [
              0.2222222222222222,
              "#7201a8"
             ],
             [
              0.3333333333333333,
              "#9c179e"
             ],
             [
              0.4444444444444444,
              "#bd3786"
             ],
             [
              0.5555555555555556,
              "#d8576b"
             ],
             [
              0.6666666666666666,
              "#ed7953"
             ],
             [
              0.7777777777777778,
              "#fb9f3a"
             ],
             [
              0.8888888888888888,
              "#fdca26"
             ],
             [
              1,
              "#f0f921"
             ]
            ],
            "type": "histogram2dcontour"
           }
          ],
          "mesh3d": [
           {
            "colorbar": {
             "outlinewidth": 0,
             "ticks": ""
            },
            "type": "mesh3d"
           }
          ],
          "parcoords": [
           {
            "line": {
             "colorbar": {
              "outlinewidth": 0,
              "ticks": ""
             }
            },
            "type": "parcoords"
           }
          ],
          "pie": [
           {
            "automargin": true,
            "type": "pie"
           }
          ],
          "scatter": [
           {
            "fillpattern": {
             "fillmode": "overlay",
             "size": 10,
             "solidity": 0.2
            },
            "type": "scatter"
           }
          ],
          "scatter3d": [
           {
            "line": {
             "colorbar": {
              "outlinewidth": 0,
              "ticks": ""
             }
            },
            "marker": {
             "colorbar": {
              "outlinewidth": 0,
              "ticks": ""
             }
            },
            "type": "scatter3d"
           }
          ],
          "scattercarpet": [
           {
            "marker": {
             "colorbar": {
              "outlinewidth": 0,
              "ticks": ""
             }
            },
            "type": "scattercarpet"
           }
          ],
          "scattergeo": [
           {
            "marker": {
             "colorbar": {
              "outlinewidth": 0,
              "ticks": ""
             }
            },
            "type": "scattergeo"
           }
          ],
          "scattergl": [
           {
            "marker": {
             "colorbar": {
              "outlinewidth": 0,
              "ticks": ""
             }
            },
            "type": "scattergl"
           }
          ],
          "scattermapbox": [
           {
            "marker": {
             "colorbar": {
              "outlinewidth": 0,
              "ticks": ""
             }
            },
            "type": "scattermapbox"
           }
          ],
          "scatterpolar": [
           {
            "marker": {
             "colorbar": {
              "outlinewidth": 0,
              "ticks": ""
             }
            },
            "type": "scatterpolar"
           }
          ],
          "scatterpolargl": [
           {
            "marker": {
             "colorbar": {
              "outlinewidth": 0,
              "ticks": ""
             }
            },
            "type": "scatterpolargl"
           }
          ],
          "scatterternary": [
           {
            "marker": {
             "colorbar": {
              "outlinewidth": 0,
              "ticks": ""
             }
            },
            "type": "scatterternary"
           }
          ],
          "surface": [
           {
            "colorbar": {
             "outlinewidth": 0,
             "ticks": ""
            },
            "colorscale": [
             [
              0,
              "#0d0887"
             ],
             [
              0.1111111111111111,
              "#46039f"
             ],
             [
              0.2222222222222222,
              "#7201a8"
             ],
             [
              0.3333333333333333,
              "#9c179e"
             ],
             [
              0.4444444444444444,
              "#bd3786"
             ],
             [
              0.5555555555555556,
              "#d8576b"
             ],
             [
              0.6666666666666666,
              "#ed7953"
             ],
             [
              0.7777777777777778,
              "#fb9f3a"
             ],
             [
              0.8888888888888888,
              "#fdca26"
             ],
             [
              1,
              "#f0f921"
             ]
            ],
            "type": "surface"
           }
          ],
          "table": [
           {
            "cells": {
             "fill": {
              "color": "#EBF0F8"
             },
             "line": {
              "color": "white"
             }
            },
            "header": {
             "fill": {
              "color": "#C8D4E3"
             },
             "line": {
              "color": "white"
             }
            },
            "type": "table"
           }
          ]
         },
         "layout": {
          "annotationdefaults": {
           "arrowcolor": "#2a3f5f",
           "arrowhead": 0,
           "arrowwidth": 1
          },
          "autotypenumbers": "strict",
          "coloraxis": {
           "colorbar": {
            "outlinewidth": 0,
            "ticks": ""
           }
          },
          "colorscale": {
           "diverging": [
            [
             0,
             "#8e0152"
            ],
            [
             0.1,
             "#c51b7d"
            ],
            [
             0.2,
             "#de77ae"
            ],
            [
             0.3,
             "#f1b6da"
            ],
            [
             0.4,
             "#fde0ef"
            ],
            [
             0.5,
             "#f7f7f7"
            ],
            [
             0.6,
             "#e6f5d0"
            ],
            [
             0.7,
             "#b8e186"
            ],
            [
             0.8,
             "#7fbc41"
            ],
            [
             0.9,
             "#4d9221"
            ],
            [
             1,
             "#276419"
            ]
           ],
           "sequential": [
            [
             0,
             "#0d0887"
            ],
            [
             0.1111111111111111,
             "#46039f"
            ],
            [
             0.2222222222222222,
             "#7201a8"
            ],
            [
             0.3333333333333333,
             "#9c179e"
            ],
            [
             0.4444444444444444,
             "#bd3786"
            ],
            [
             0.5555555555555556,
             "#d8576b"
            ],
            [
             0.6666666666666666,
             "#ed7953"
            ],
            [
             0.7777777777777778,
             "#fb9f3a"
            ],
            [
             0.8888888888888888,
             "#fdca26"
            ],
            [
             1,
             "#f0f921"
            ]
           ],
           "sequentialminus": [
            [
             0,
             "#0d0887"
            ],
            [
             0.1111111111111111,
             "#46039f"
            ],
            [
             0.2222222222222222,
             "#7201a8"
            ],
            [
             0.3333333333333333,
             "#9c179e"
            ],
            [
             0.4444444444444444,
             "#bd3786"
            ],
            [
             0.5555555555555556,
             "#d8576b"
            ],
            [
             0.6666666666666666,
             "#ed7953"
            ],
            [
             0.7777777777777778,
             "#fb9f3a"
            ],
            [
             0.8888888888888888,
             "#fdca26"
            ],
            [
             1,
             "#f0f921"
            ]
           ]
          },
          "colorway": [
           "#636efa",
           "#EF553B",
           "#00cc96",
           "#ab63fa",
           "#FFA15A",
           "#19d3f3",
           "#FF6692",
           "#B6E880",
           "#FF97FF",
           "#FECB52"
          ],
          "font": {
           "color": "#2a3f5f"
          },
          "geo": {
           "bgcolor": "white",
           "lakecolor": "white",
           "landcolor": "#E5ECF6",
           "showlakes": true,
           "showland": true,
           "subunitcolor": "white"
          },
          "hoverlabel": {
           "align": "left"
          },
          "hovermode": "closest",
          "mapbox": {
           "style": "light"
          },
          "paper_bgcolor": "white",
          "plot_bgcolor": "#E5ECF6",
          "polar": {
           "angularaxis": {
            "gridcolor": "white",
            "linecolor": "white",
            "ticks": ""
           },
           "bgcolor": "#E5ECF6",
           "radialaxis": {
            "gridcolor": "white",
            "linecolor": "white",
            "ticks": ""
           }
          },
          "scene": {
           "xaxis": {
            "backgroundcolor": "#E5ECF6",
            "gridcolor": "white",
            "gridwidth": 2,
            "linecolor": "white",
            "showbackground": true,
            "ticks": "",
            "zerolinecolor": "white"
           },
           "yaxis": {
            "backgroundcolor": "#E5ECF6",
            "gridcolor": "white",
            "gridwidth": 2,
            "linecolor": "white",
            "showbackground": true,
            "ticks": "",
            "zerolinecolor": "white"
           },
           "zaxis": {
            "backgroundcolor": "#E5ECF6",
            "gridcolor": "white",
            "gridwidth": 2,
            "linecolor": "white",
            "showbackground": true,
            "ticks": "",
            "zerolinecolor": "white"
           }
          },
          "shapedefaults": {
           "line": {
            "color": "#2a3f5f"
           }
          },
          "ternary": {
           "aaxis": {
            "gridcolor": "white",
            "linecolor": "white",
            "ticks": ""
           },
           "baxis": {
            "gridcolor": "white",
            "linecolor": "white",
            "ticks": ""
           },
           "bgcolor": "#E5ECF6",
           "caxis": {
            "gridcolor": "white",
            "linecolor": "white",
            "ticks": ""
           }
          },
          "title": {
           "x": 0.05
          },
          "xaxis": {
           "automargin": true,
           "gridcolor": "white",
           "linecolor": "white",
           "ticks": "",
           "title": {
            "standoff": 15
           },
           "zerolinecolor": "white",
           "zerolinewidth": 2
          },
          "yaxis": {
           "automargin": true,
           "gridcolor": "white",
           "linecolor": "white",
           "ticks": "",
           "title": {
            "standoff": 15
           },
           "zerolinecolor": "white",
           "zerolinewidth": 2
          }
         }
        },
        "title": {
         "text": "Vendas Totais por País"
        }
       }
      }
     },
     "metadata": {},
     "output_type": "display_data"
    }
   ],
   "source": [
    "# Agrupar as vendas por país\n",
    "vendas_por_pais = df.groupby('País')['Total_Venda'].sum().reset_index()\n",
    "\n",
    "# Criar o mapa de coropleto interativo\n",
    "fig = px.choropleth(vendas_por_pais,\n",
    "                    locations='País',\n",
    "                    locationmode='country names',\n",
    "                    color='Total_Venda',\n",
    "                    hover_name='País',\n",
    "                    color_continuous_scale=px.colors.sequential.Plasma,\n",
    "                    title='Vendas Totais por País')\n",
    "\n",
    "# Exibir o mapa\n",
    "fig.show()"
   ]
  }
 ],
 "metadata": {
  "kernelspec": {
   "display_name": "base",
   "language": "python",
   "name": "python3"
  },
  "language_info": {
   "codemirror_mode": {
    "name": "ipython",
    "version": 3
   },
   "file_extension": ".py",
   "mimetype": "text/x-python",
   "name": "python",
   "nbconvert_exporter": "python",
   "pygments_lexer": "ipython3",
   "version": "3.13.5"
  }
 },
 "nbformat": 4,
 "nbformat_minor": 5
}
